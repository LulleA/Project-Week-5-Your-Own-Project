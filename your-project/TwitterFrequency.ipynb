{
 "cells": [
  {
   "cell_type": "code",
   "execution_count": 1,
   "metadata": {},
   "outputs": [],
   "source": [
    "import twitter"
   ]
  },
  {
   "cell_type": "code",
   "execution_count": null,
   "metadata": {},
   "outputs": [],
   "source": [
    "ACCESS_TOKEN = '1093976192452124674-WpFau6a485datIa7PGba6sDCmn53QH'\n",
    "ACCESS_SECRET = 'O84cFnCGyZJwwMKiShDmB3cpzWIp50Qqj65YxQFkave8E'\n",
    "CONSUMER_KEY = 'xMpHpOHJ40AFGqQOYpy5ngZql'\n",
    "CONSUMER_SECRET = '72PKQwkT82ABJJcqeEbR5FgdTS1NMrWlM9TR5bkmm87OH2Q1qc'\n",
    "\n",
    "t = twitter.Api(consumer_key=CONSUMER_KEY,\n",
    "                consumer_secret=CONSUMER_SECRET,\n",
    "                access_token_key=ACCESS_TOKEN,\n",
    "                access_token_secret=ACCESS_SECRET)\n",
    "\n"
   ]
  }
 ],
 "metadata": {
  "kernelspec": {
   "display_name": "Python 3",
   "language": "python",
   "name": "python3"
  },
  "language_info": {
   "codemirror_mode": {
    "name": "ipython",
    "version": 3
   },
   "file_extension": ".py",
   "mimetype": "text/x-python",
   "name": "python",
   "nbconvert_exporter": "python",
   "pygments_lexer": "ipython3",
   "version": "3.7.3"
  }
 },
 "nbformat": 4,
 "nbformat_minor": 2
}

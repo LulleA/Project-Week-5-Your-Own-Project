{
 "cells": [
  {
   "cell_type": "code",
   "execution_count": 1,
   "metadata": {},
   "outputs": [],
   "source": [
    "import requests\n",
    "import json\n",
    "import re\n",
    "import pandas as pd\n",
    "import csv\n",
    "import time\n",
    "import datetime"
   ]
  },
  {
   "cell_type": "code",
   "execution_count": 44,
   "metadata": {},
   "outputs": [],
   "source": [
    "## This gets all reddit titles during 2018. Compare this with actual returns to see if abnormal or not. However, change \n",
    "# period to weekly or monthly and make a correlation of number of titles and stock returns.\n",
    "\n",
    "# To get each month maybe find the datecode for each month and iterate through each but store in monthly variables.\n",
    "# To do this I need to change to when each date has been exhausted, it moves to next period and to the next storage list.\n",
    "\n",
    "\n",
    "# getData function requests the data from reddit's pushshift API with the firm and parameter requirements, further seen below.\n",
    "def getData(after, firm):\n",
    "\n",
    "    url = 'https://api.pushshift.io/reddit/search/submission?&size=1000&after='+str(after)+'&subreddit='+str(firm)\n",
    "\n",
    "    r = requests.get(url)\n",
    "\n",
    "    data = json.loads(r.text)\n",
    "\n",
    "    return data['data']\n",
    "\n",
    "\n",
    "#list to store posts during each month\n",
    "\n",
    "\n",
    "# Codes for dates for each month\n",
    "jan_date = 1514764800 # 1st Jan 2018\n",
    "feb_date = 1517443200 # 1st Feb 2018\n",
    "mar_date = 1519862400 # 1st March 2018\n",
    "apr_date = 1522540800 # 1st April 2018\n",
    "may_date = 1525132800 # 1st May 2018\n",
    "jun_date = 1527811200 # 1st June 2018\n",
    "jul_date = 1530403200 # 1st July 2018\n",
    "aug_date = 1533081600 # 1st August 2018\n",
    "sep_date = 1535760000 # 1st September 2018\n",
    "oct_date = 1538352000 # 1st October 2018\n",
    "nov_date = 1541030400 # 1st November 2018\n",
    "dec_date = 1543622400 # 1st December 2018\n",
    "jan_2019_date = 1546300800 # 1st Jan 2019\n",
    "\n",
    "# Firm of interest\n",
    "firm = 'S&P'\n",
    "after = jan_date\n",
    "\n",
    "data = getData(after, firm)\n",
    "\n"
   ]
  },
  {
   "cell_type": "code",
   "execution_count": 45,
   "metadata": {},
   "outputs": [],
   "source": [
    "# From the requested results, I make a function to store the data for each month in a list.\n",
    "def month_storer(data2):\n",
    "\n",
    "    jan_posts = []\n",
    "    feb_posts = []\n",
    "    mar_posts = []\n",
    "    apr_posts = []\n",
    "    may_posts = []\n",
    "    jun_posts = []\n",
    "    jul_posts = []\n",
    "    aug_posts = []\n",
    "    sep_posts = []\n",
    "    oct_posts = []\n",
    "    nov_posts = []\n",
    "    dec_posts = []\n",
    "\n",
    "    while len(data2) > 0:  \n",
    "           \n",
    "        for submission in data2:\n",
    "            if submission[\"created_utc\"] <= feb_date:\n",
    "                jan_posts.append(submission[\"created_utc\"])\n",
    "           \n",
    "            elif submission[\"created_utc\"] > feb_date and submission[\"created_utc\"] <= mar_date:\n",
    "                feb_posts.append(submission[\"created_utc\"])\n",
    "            \n",
    "            elif submission[\"created_utc\"] > mar_date and submission[\"created_utc\"] <= apr_date:\n",
    "                mar_posts.append(submission[\"created_utc\"])\n",
    "            \n",
    "            elif submission[\"created_utc\"] > apr_date and submission[\"created_utc\"] <= may_date:\n",
    "                apr_posts.append(submission[\"created_utc\"])\n",
    "            \n",
    "            elif submission[\"created_utc\"] > may_date and submission[\"created_utc\"] <= jun_date:\n",
    "                may_posts.append(submission[\"created_utc\"])\n",
    "            \n",
    "            elif submission[\"created_utc\"] > jun_date and submission[\"created_utc\"] <= jul_date:\n",
    "                jun_posts.append(submission[\"created_utc\"])\n",
    "            \n",
    "            elif submission[\"created_utc\"] > jul_date and submission[\"created_utc\"] <= aug_date:\n",
    "                jul_posts.append(submission[\"created_utc\"])\n",
    "            \n",
    "            elif submission[\"created_utc\"] > aug_date and submission[\"created_utc\"] <= sep_date:\n",
    "                aug_posts.append(submission[\"created_utc\"])\n",
    "            \n",
    "            elif submission[\"created_utc\"] > sep_date and submission[\"created_utc\"] <= oct_date:\n",
    "                sep_posts.append(submission[\"created_utc\"])\n",
    "            \n",
    "            elif submission[\"created_utc\"] > oct_date and submission[\"created_utc\"] <= nov_date:\n",
    "                oct_posts.append(submission[\"created_utc\"])\n",
    "            \n",
    "            elif submission[\"created_utc\"] > nov_date and submission[\"created_utc\"] <= dec_date:\n",
    "                nov_posts.append(submission[\"created_utc\"])\n",
    "            \n",
    "            elif submission[\"created_utc\"] > dec_date and  submission[\"created_utc\"] <= jan_2019_date:\n",
    "                dec_posts.append(submission[\"created_utc\"])\n",
    "                \n",
    "        data2 = getData(firm=firm, after=int(data2[-1]['created_utc']))\n",
    "                \n",
    "    return len(jan_posts), len(feb_posts), len(mar_posts), len(apr_posts), len(may_posts), len(jun_posts), len(jul_posts), len(aug_posts), len(sep_posts), len(oct_posts), len(nov_posts), len(dec_posts)\n",
    "        \n",
    "# Calls getData() with the created date of the last submission\n",
    "\n",
    "\n",
    "#print(len(jan_posts), len(feb_posts), len(mar_posts), len(apr_posts), len(may_posts), len(jun_posts), len(jul_posts), len(aug_posts), len(sep_posts), len(oct_posts), len(nov_posts), len(dec_posts))\n",
    "\n",
    "# Here, I make a function to store into a DataFrame: each companies monthly statistics.\n",
    "def company_df(monthly_data):\n",
    "    return pd.DataFrame(monthly_data, index={0:'Jan', 1:'Feb', 2:'Mar', 3:'Apr', 4:'May', 5:'Jun', 6:'Jul', 7:'Aug', 8:'Sep', 9:'Oct', 10:'Nov', 11:'Dec'})\n",
    "\n",
    "#print(getData(after, before, firm))"
   ]
  },
  {
   "cell_type": "code",
   "execution_count": 46,
   "metadata": {},
   "outputs": [
    {
     "data": {
      "text/plain": [
       "(0, 0, 0, 0, 0, 0, 0, 0, 0, 0, 0, 0)"
      ]
     },
     "execution_count": 46,
     "metadata": {},
     "output_type": "execute_result"
    }
   ],
   "source": [
    "month_storer(data)"
   ]
  },
  {
   "cell_type": "code",
   "execution_count": null,
   "metadata": {},
   "outputs": [],
   "source": [
    "print(company_df(month_storer(getData(after, firm))))"
   ]
  },
  {
   "cell_type": "code",
   "execution_count": null,
   "metadata": {},
   "outputs": [],
   "source": [
    "# Make a dataframe for Nike's frequency of monthly posts during 2018.\n",
    "Nike_data = company_df(month_storer(data))"
   ]
  },
  {
   "cell_type": "code",
   "execution_count": null,
   "metadata": {},
   "outputs": [],
   "source": [
    "print(Nike_data)"
   ]
  },
  {
   "cell_type": "code",
   "execution_count": null,
   "metadata": {},
   "outputs": [],
   "source": [
    "\"\"\"\n",
    "The analysis will be based on comparing large cap VS Small cap companies as well as industries.\n",
    "From the apparel industry: Nike (137Bn Cap) VS Abercrombie & Fitch (1.21Bn Cap)\n",
    "\n",
    "Above did not work as there are not enough posts for small cap companies to show significance.\n",
    "\n",
    "Tech (Microsoft), Health care (CVS), Consumer service (Walmart),\n",
    "Consumer goods (Nike), Capital goods (Boeing), Transportation (Fedex), Miscellaneous (Accenture)\n",
    "\n"
   ]
  }
 ],
 "metadata": {
  "kernelspec": {
   "display_name": "LucasEnv",
   "language": "python",
   "name": "pylucas"
  },
  "language_info": {
   "codemirror_mode": {
    "name": "ipython",
    "version": 3
   },
   "file_extension": ".py",
   "mimetype": "text/x-python",
   "name": "python",
   "nbconvert_exporter": "python",
   "pygments_lexer": "ipython3",
   "version": "3.7.3"
  }
 },
 "nbformat": 4,
 "nbformat_minor": 2
}

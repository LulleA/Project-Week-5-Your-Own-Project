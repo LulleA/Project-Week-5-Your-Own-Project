{
 "cells": [
  {
   "cell_type": "code",
   "execution_count": 1,
   "metadata": {},
   "outputs": [],
   "source": [
    "import requests\n",
    "import json\n",
    "import re\n",
    "import pandas as pd\n",
    "import csv\n",
    "import time\n",
    "import datetime\n",
    "import seaborn as sns\n",
    "from scipy import stats\n",
    "import numpy as np\n",
    "import statsmodels.api as sm\n",
    "import matplotlib.pyplot as plt\n",
    "\n",
    "plt.style.use('ggplot')"
   ]
  },
  {
   "cell_type": "code",
   "execution_count": 2,
   "metadata": {},
   "outputs": [],
   "source": [
    "## This gets all reddit titles during 2018. Compare this with actual returns to see if abnormal or not. However, change \n",
    "# period to weekly or monthly and make a correlation of number of titles and stock returns.\n",
    "\n",
    "# To get each month maybe find the datecode for each month and iterate through each but store in monthly variables.\n",
    "# To do this I need to change to when each date has been exhausted, it moves to next period and to the next storage list.\n",
    "\n",
    "\n",
    "# getData function requests the data from reddit's pushshift API with the firm and parameter requirements, further seen below.\n",
    "def getData(after, firm):\n",
    "\n",
    "    url = 'https://api.pushshift.io/reddit/search/submission?&size=1000&after='+str(after)+'&subreddit='+str(firm)\n",
    "\n",
    "    r = requests.get(url)\n",
    "\n",
    "    data = json.loads(r.text)\n",
    "\n",
    "    return data['data']\n",
    "\n",
    "\n",
    "#list to store posts during each month\n",
    "\n",
    "\n",
    "# Codes for dates for each month\n",
    "jan_date = 1514764800 # 1st Jan 2018\n",
    "feb_date = 1517443200 # 1st Feb 2018\n",
    "mar_date = 1519862400 # 1st March 2018\n",
    "apr_date = 1522540800 # 1st April 2018\n",
    "may_date = 1525132800 # 1st May 2018\n",
    "jun_date = 1527811200 # 1st June 2018\n",
    "jul_date = 1530403200 # 1st July 2018\n",
    "aug_date = 1533081600 # 1st August 2018\n",
    "sep_date = 1535760000 # 1st September 2018\n",
    "oct_date = 1538352000 # 1st October 2018\n",
    "nov_date = 1541030400 # 1st November 2018\n",
    "dec_date = 1543622400 # 1st December 2018\n",
    "jan_2019_date = 1546300800 # 1st Jan 2019\n",
    "\n",
    "# Firm of interest\n",
    "firm = 'Microsoft'\n",
    "after = jan_date\n",
    "\n",
    "data = getData(after, firm)\n",
    "\n"
   ]
  },
  {
   "cell_type": "code",
   "execution_count": 3,
   "metadata": {},
   "outputs": [],
   "source": [
    "# From the requested results, I make a function to store the data for each month in a list.\n",
    "def month_storer(data2):\n",
    "\n",
    "    jan_posts = []\n",
    "    feb_posts = []\n",
    "    mar_posts = []\n",
    "    apr_posts = []\n",
    "    may_posts = []\n",
    "    jun_posts = []\n",
    "    jul_posts = []\n",
    "    aug_posts = []\n",
    "    sep_posts = []\n",
    "    oct_posts = []\n",
    "    nov_posts = []\n",
    "    dec_posts = []\n",
    "\n",
    "    while len(data2) > 0:  \n",
    "           \n",
    "        for submission in data2:\n",
    "            if submission[\"created_utc\"] <= feb_date:\n",
    "                jan_posts.append(submission[\"created_utc\"])\n",
    "                \n",
    "            elif submission[\"created_utc\"] > feb_date and submission[\"created_utc\"] <= mar_date:\n",
    "                feb_posts.append(submission[\"created_utc\"])\n",
    "                \n",
    "            \n",
    "            elif submission[\"created_utc\"] > mar_date and submission[\"created_utc\"] <= apr_date:\n",
    "                mar_posts.append(submission[\"created_utc\"])\n",
    "                \n",
    "            \n",
    "            elif submission[\"created_utc\"] > apr_date and submission[\"created_utc\"] <= may_date:\n",
    "                apr_posts.append(submission[\"created_utc\"])\n",
    "                \n",
    "            \n",
    "            elif submission[\"created_utc\"] > may_date and submission[\"created_utc\"] <= jun_date:\n",
    "                may_posts.append(submission[\"created_utc\"])\n",
    "                \n",
    "            \n",
    "            elif submission[\"created_utc\"] > jun_date and submission[\"created_utc\"] <= jul_date:\n",
    "                jun_posts.append(submission[\"created_utc\"])\n",
    "                \n",
    "            \n",
    "            elif submission[\"created_utc\"] > jul_date and submission[\"created_utc\"] <= aug_date:\n",
    "                jul_posts.append(submission[\"created_utc\"])\n",
    "                \n",
    "            \n",
    "            elif submission[\"created_utc\"] > aug_date and submission[\"created_utc\"] <= sep_date:\n",
    "                aug_posts.append(submission[\"created_utc\"])\n",
    "                \n",
    "            \n",
    "            elif submission[\"created_utc\"] > sep_date and submission[\"created_utc\"] <= oct_date:\n",
    "                sep_posts.append(submission[\"created_utc\"])\n",
    "                \n",
    "            \n",
    "            elif submission[\"created_utc\"] > oct_date and submission[\"created_utc\"] <= nov_date:\n",
    "                oct_posts.append(submission[\"created_utc\"])\n",
    "                \n",
    "            \n",
    "            elif submission[\"created_utc\"] > nov_date and submission[\"created_utc\"] <= dec_date:\n",
    "                nov_posts.append(submission[\"created_utc\"])\n",
    "                \n",
    "            \n",
    "            elif submission[\"created_utc\"] > dec_date and  submission[\"created_utc\"] <= jan_2019_date:\n",
    "                dec_posts.append(submission[\"created_utc\"])\n",
    "                \n",
    "                \n",
    "        data2 = getData(firm=firm, after=int(data2[-1]['created_utc']))\n",
    "                \n",
    "    return len(jan_posts), len(feb_posts), len(mar_posts), len(apr_posts), len(may_posts), len(jun_posts), len(jul_posts), len(aug_posts), len(sep_posts), len(oct_posts), len(nov_posts), len(dec_posts)\n",
    "        \n",
    "# Calls getData() with the created date of the last submission\n",
    "\n",
    "\n",
    "#print(len(jan_posts), len(feb_posts), len(mar_posts), len(apr_posts), len(may_posts), len(jun_posts), len(jul_posts), len(aug_posts), len(sep_posts), len(oct_posts), len(nov_posts), len(dec_posts))\n",
    "\n",
    "# Here, I make a function to store into a DataFrame: each companies monthly statistics.\n",
    "def company_df(monthly_data):\n",
    "    return pd.DataFrame(monthly_data, columns = ['monthly_posts'], index={0:'Jan', 1:'Feb', 2:'Mar', 3:'Apr', 4:'May', 5:'Jun', 6:'Jul', 7:'Aug', 8:'Sep', 9:'Oct', 10:'Nov', 11:'Dec'})\n",
    "\n",
    "#print(getData(after, before, firm))"
   ]
  },
  {
   "cell_type": "code",
   "execution_count": 4,
   "metadata": {},
   "outputs": [
    {
     "data": {
      "text/plain": [
       "(406, 409, 513, 555, 620, 588, 512, 477, 480, 599, 522, 395)"
      ]
     },
     "execution_count": 4,
     "metadata": {},
     "output_type": "execute_result"
    }
   ],
   "source": [
    "month_storer(data)"
   ]
  },
  {
   "cell_type": "code",
   "execution_count": 5,
   "metadata": {},
   "outputs": [
    {
     "name": "stdout",
     "output_type": "stream",
     "text": [
      "    monthly_posts\n",
      "0             149\n",
      "1             149\n",
      "2             184\n",
      "3             179\n",
      "4             142\n",
      "5             168\n",
      "6             467\n",
      "7             477\n",
      "8             480\n",
      "9             599\n",
      "10            522\n",
      "11            395\n"
     ]
    }
   ],
   "source": [
    "print(company_df(month_storer(getData(after, 'Nike'))))"
   ]
  },
  {
   "cell_type": "code",
   "execution_count": 6,
   "metadata": {},
   "outputs": [],
   "source": [
    "# Make a dataframe for Nike's frequency of monthly posts during 2018.\n",
    "\n",
    "Nike_data = company_df(month_storer(getData(after, 'Nike')))\n",
    "Microsoft_data = company_df(month_storer(getData(after, 'Microsoft')))\n",
    "CVS_data = company_df(month_storer(getData(after, 'CVS')))\n",
    "Walmart_data = company_df(month_storer(getData(after, 'Walmart')))\n",
    "Boeing_data = company_df(month_storer(getData(after, 'Boeing')))\n",
    "Fedex_data = company_df(month_storer(getData(after, 'Fedex')))\n",
    "Accenture_data = company_df(month_storer(getData(after, 'Accenture')))\n"
   ]
  },
  {
   "cell_type": "code",
   "execution_count": 7,
   "metadata": {},
   "outputs": [
    {
     "name": "stdout",
     "output_type": "stream",
     "text": [
      "    monthly_posts\n",
      "0             149\n",
      "1             149\n",
      "2             184\n",
      "3             179\n",
      "4             142\n",
      "5             168\n",
      "6             467\n",
      "7             477\n",
      "8             480\n",
      "9             599\n",
      "10            522\n",
      "11            395\n"
     ]
    }
   ],
   "source": [
    "print(Nike_data)"
   ]
  },
  {
   "cell_type": "code",
   "execution_count": 8,
   "metadata": {},
   "outputs": [
    {
     "data": {
      "text/plain": [
       "'\\nThe analysis will be based on comparing large cap VS Small cap companies as well as industries.\\nFrom the apparel industry: Nike (137Bn Cap) VS Abercrombie & Fitch (1.21Bn Cap)\\n\\nAbove did not work as there are not enough posts for small cap companies to show significance.\\n\\nConsumer goods (Nike), Tech (Microsoft), Health care (CVS), Consumer service (Walmart), Capital goods (Boeing), \\nTransportation (Fedex), Miscellaneous (Accenture)\\n'"
      ]
     },
     "execution_count": 8,
     "metadata": {},
     "output_type": "execute_result"
    }
   ],
   "source": [
    "\"\"\"\n",
    "The analysis will be based on comparing large cap VS Small cap companies as well as industries.\n",
    "From the apparel industry: Nike (137Bn Cap) VS Abercrombie & Fitch (1.21Bn Cap)\n",
    "\n",
    "Above did not work as there are not enough posts for small cap companies to show significance.\n",
    "\n",
    "Consumer goods (Nike), Tech (Microsoft), Health care (CVS), Consumer service (Walmart), Capital goods (Boeing), \n",
    "Transportation (Fedex), Miscellaneous (Accenture)\n",
    "\"\"\""
   ]
  },
  {
   "cell_type": "code",
   "execution_count": 9,
   "metadata": {},
   "outputs": [],
   "source": [
    "# Import the CSV file with Nike's stock prices during 2018\n",
    "Nike_stock_data = pd.read_csv('../Nike_stock_returns.csv')\n",
    "Microsoft_stock_data = pd.read_csv('../Microsoft_stock_returns.csv')\n",
    "CVS_stock_data = pd.read_csv('../CVS_stock_returns.csv')\n",
    "Walmart_stock_data = pd.read_csv('../Walmart_stock_returns.csv')\n",
    "Boeing_stock_data = pd.read_csv('../Boeing_stock_returns.csv')\n",
    "Fedex_stock_data = pd.read_csv('../Fedex_stock_returns.csv')\n",
    "Accenture_stock_data = pd.read_csv('../Accenture_stock_returns.csv')"
   ]
  },
  {
   "cell_type": "code",
   "execution_count": 11,
   "metadata": {},
   "outputs": [],
   "source": [
    "#print(CSV_cleaner(Nike_stock_data))"
   ]
  },
  {
   "cell_type": "code",
   "execution_count": 12,
   "metadata": {
    "scrolled": true
   },
   "outputs": [],
   "source": [
    "Nike_jan_data = Nike_stock_data[Nike_stock_data['Date'].str.contains(\"Jan\") ]\n",
    "Nike_feb_data = Nike_stock_data[Nike_stock_data['Date'].str.contains(\"Feb\") ]\n",
    "Nike_mar_data = Nike_stock_data[Nike_stock_data['Date'].str.contains(\"Mar\") ]\n",
    "Nike_apr_data = Nike_stock_data[Nike_stock_data['Date'].str.contains(\"Apr\") ]\n",
    "Nike_may_data = Nike_stock_data[Nike_stock_data['Date'].str.contains(\"May\") ]\n",
    "Nike_jun_data = Nike_stock_data[Nike_stock_data['Date'].str.contains(\"Jun\") ]\n",
    "Nike_jul_data = Nike_stock_data[Nike_stock_data['Date'].str.contains(\"Jul\") ]\n",
    "Nike_aug_data = Nike_stock_data[Nike_stock_data['Date'].str.contains(\"Aug\") ]\n",
    "Nike_sep_data = Nike_stock_data[Nike_stock_data['Date'].str.contains(\"Sep\") ]\n",
    "Nike_oct_data = Nike_stock_data[Nike_stock_data['Date'].str.contains(\"Oct\") ]\n",
    "Nike_nov_data = Nike_stock_data[Nike_stock_data['Date'].str.contains(\"Nov\") ]\n",
    "Nike_dec_data = Nike_stock_data[Nike_stock_data['Date'].str.contains(\"Dec\") ]"
   ]
  },
  {
   "cell_type": "code",
   "execution_count": 13,
   "metadata": {},
   "outputs": [],
   "source": [
    "def monthly_returns(stock_data):\n",
    "    return (((stock_data[stock_data['Date'] == max(stock_data['Date']) ]['Open'].item() / stock_data[stock_data['Date'] == min(stock_data['Date']) ]['Open'].item()) -1) *100)"
   ]
  },
  {
   "cell_type": "code",
   "execution_count": 15,
   "metadata": {},
   "outputs": [],
   "source": [
    "#Nike_data_returns = [Nike_jan_returns, Nike_feb_returns, Nike_mar_returns, Nike_apr_returns, Nike_may_returns, Nike_jun_returns, Nike_jul_returns, Nike_aug_returns, Nike_sep_returns, Nike_oct_returns, Nike_nov_returns, Nike_dec_returns]"
   ]
  },
  {
   "cell_type": "code",
   "execution_count": 16,
   "metadata": {},
   "outputs": [],
   "source": [
    "Nike_returns = [monthly_returns(Nike_jan_data), monthly_returns(Nike_feb_data), monthly_returns(Nike_mar_data), monthly_returns(Nike_apr_data), monthly_returns(Nike_may_data), monthly_returns(Nike_jun_data), monthly_returns(Nike_jul_data), monthly_returns(Nike_aug_data), monthly_returns(Nike_sep_data), monthly_returns(Nike_oct_data), monthly_returns(Nike_nov_data), monthly_returns(Nike_dec_data)]"
   ]
  },
  {
   "cell_type": "code",
   "execution_count": 17,
   "metadata": {},
   "outputs": [],
   "source": [
    "Company1 = ['Nike', 'Nike', 'Nike', 'Nike', 'Nike', 'Nike', 'Nike', 'Nike', 'Nike', 'Nike', 'Nike', 'Nike']"
   ]
  },
  {
   "cell_type": "code",
   "execution_count": 18,
   "metadata": {},
   "outputs": [],
   "source": [
    "Nike_data.insert(1, \"Monthly returns\", Nike_returns, True)\n",
    "Nike_data.insert(2, \"Company\", Company1, True)"
   ]
  },
  {
   "cell_type": "code",
   "execution_count": 19,
   "metadata": {},
   "outputs": [
    {
     "data": {
      "text/html": [
       "<div>\n",
       "<style scoped>\n",
       "    .dataframe tbody tr th:only-of-type {\n",
       "        vertical-align: middle;\n",
       "    }\n",
       "\n",
       "    .dataframe tbody tr th {\n",
       "        vertical-align: top;\n",
       "    }\n",
       "\n",
       "    .dataframe thead th {\n",
       "        text-align: right;\n",
       "    }\n",
       "</style>\n",
       "<table border=\"1\" class=\"dataframe\">\n",
       "  <thead>\n",
       "    <tr style=\"text-align: right;\">\n",
       "      <th></th>\n",
       "      <th>monthly_posts</th>\n",
       "      <th>Monthly returns</th>\n",
       "      <th>Company</th>\n",
       "    </tr>\n",
       "  </thead>\n",
       "  <tbody>\n",
       "    <tr>\n",
       "      <th>0</th>\n",
       "      <td>149</td>\n",
       "      <td>7.398568</td>\n",
       "      <td>Nike</td>\n",
       "    </tr>\n",
       "    <tr>\n",
       "      <th>1</th>\n",
       "      <td>149</td>\n",
       "      <td>0.635437</td>\n",
       "      <td>Nike</td>\n",
       "    </tr>\n",
       "    <tr>\n",
       "      <th>2</th>\n",
       "      <td>184</td>\n",
       "      <td>-2.290303</td>\n",
       "      <td>Nike</td>\n",
       "    </tr>\n",
       "    <tr>\n",
       "      <th>3</th>\n",
       "      <td>179</td>\n",
       "      <td>5.472184</td>\n",
       "      <td>Nike</td>\n",
       "    </tr>\n",
       "    <tr>\n",
       "      <th>4</th>\n",
       "      <td>142</td>\n",
       "      <td>5.913504</td>\n",
       "      <td>Nike</td>\n",
       "    </tr>\n",
       "    <tr>\n",
       "      <th>5</th>\n",
       "      <td>168</td>\n",
       "      <td>9.206877</td>\n",
       "      <td>Nike</td>\n",
       "    </tr>\n",
       "    <tr>\n",
       "      <th>6</th>\n",
       "      <td>467</td>\n",
       "      <td>-2.723339</td>\n",
       "      <td>Nike</td>\n",
       "    </tr>\n",
       "    <tr>\n",
       "      <th>7</th>\n",
       "      <td>477</td>\n",
       "      <td>6.209150</td>\n",
       "      <td>Nike</td>\n",
       "    </tr>\n",
       "    <tr>\n",
       "      <th>8</th>\n",
       "      <td>480</td>\n",
       "      <td>6.172062</td>\n",
       "      <td>Nike</td>\n",
       "    </tr>\n",
       "    <tr>\n",
       "      <th>9</th>\n",
       "      <td>599</td>\n",
       "      <td>-11.280846</td>\n",
       "      <td>Nike</td>\n",
       "    </tr>\n",
       "    <tr>\n",
       "      <th>10</th>\n",
       "      <td>522</td>\n",
       "      <td>-1.395720</td>\n",
       "      <td>Nike</td>\n",
       "    </tr>\n",
       "    <tr>\n",
       "      <th>11</th>\n",
       "      <td>395</td>\n",
       "      <td>-4.046693</td>\n",
       "      <td>Nike</td>\n",
       "    </tr>\n",
       "  </tbody>\n",
       "</table>\n",
       "</div>"
      ],
      "text/plain": [
       "    monthly_posts  Monthly returns Company\n",
       "0             149         7.398568    Nike\n",
       "1             149         0.635437    Nike\n",
       "2             184        -2.290303    Nike\n",
       "3             179         5.472184    Nike\n",
       "4             142         5.913504    Nike\n",
       "5             168         9.206877    Nike\n",
       "6             467        -2.723339    Nike\n",
       "7             477         6.209150    Nike\n",
       "8             480         6.172062    Nike\n",
       "9             599       -11.280846    Nike\n",
       "10            522        -1.395720    Nike\n",
       "11            395        -4.046693    Nike"
      ]
     },
     "execution_count": 19,
     "metadata": {},
     "output_type": "execute_result"
    }
   ],
   "source": [
    "Nike_data"
   ]
  },
  {
   "cell_type": "code",
   "execution_count": 20,
   "metadata": {},
   "outputs": [],
   "source": [
    "Microsoft_jan_data = Microsoft_stock_data[Microsoft_stock_data['Date'].str.contains(\"Jan\") ]\n",
    "Microsoft_feb_data = Microsoft_stock_data[Microsoft_stock_data['Date'].str.contains(\"Feb\") ]\n",
    "Microsoft_mar_data = Microsoft_stock_data[Microsoft_stock_data['Date'].str.contains(\"Mar\") ]\n",
    "Microsoft_apr_data = Microsoft_stock_data[Microsoft_stock_data['Date'].str.contains(\"Apr\") ]\n",
    "Microsoft_may_data = Microsoft_stock_data[Microsoft_stock_data['Date'].str.contains(\"May\") ]\n",
    "Microsoft_jun_data = Microsoft_stock_data[Microsoft_stock_data['Date'].str.contains(\"Jun\") ]\n",
    "Microsoft_jul_data = Microsoft_stock_data[Microsoft_stock_data['Date'].str.contains(\"Jul\") ]\n",
    "Microsoft_aug_data = Microsoft_stock_data[Microsoft_stock_data['Date'].str.contains(\"Aug\") ]\n",
    "Microsoft_sep_data = Microsoft_stock_data[Microsoft_stock_data['Date'].str.contains(\"Sep\") ]\n",
    "Microsoft_oct_data = Microsoft_stock_data[Microsoft_stock_data['Date'].str.contains(\"Oct\") ]\n",
    "Microsoft_nov_data = Microsoft_stock_data[Microsoft_stock_data['Date'].str.contains(\"Nov\") ]\n",
    "Microsoft_dec_data = Microsoft_stock_data[Microsoft_stock_data['Date'].str.contains(\"Dec\") ]"
   ]
  },
  {
   "cell_type": "code",
   "execution_count": 21,
   "metadata": {},
   "outputs": [],
   "source": [
    "Microsoft_returns = [monthly_returns(Microsoft_jan_data), monthly_returns(Microsoft_feb_data), monthly_returns(Microsoft_mar_data), monthly_returns(Microsoft_apr_data), monthly_returns(Microsoft_may_data), monthly_returns(Microsoft_jun_data), monthly_returns(Microsoft_jul_data), monthly_returns(Microsoft_aug_data), monthly_returns(Microsoft_sep_data), monthly_returns(Microsoft_oct_data), monthly_returns(Microsoft_nov_data), monthly_returns(Microsoft_dec_data)]"
   ]
  },
  {
   "cell_type": "code",
   "execution_count": 22,
   "metadata": {},
   "outputs": [],
   "source": [
    "Company2 = ['Microsoft', 'Microsoft', 'Microsoft', 'Microsoft', 'Microsoft', 'Microsoft', 'Microsoft', 'Microsoft', 'Microsoft', 'Microsoft', 'Microsoft', 'Microsoft']"
   ]
  },
  {
   "cell_type": "code",
   "execution_count": 23,
   "metadata": {},
   "outputs": [],
   "source": [
    "Microsoft_data.insert(1, \"Monthly returns\", Microsoft_returns, True)"
   ]
  },
  {
   "cell_type": "code",
   "execution_count": 24,
   "metadata": {},
   "outputs": [],
   "source": [
    "Microsoft_data.insert(2, \"Company\", Company2, True)"
   ]
  },
  {
   "cell_type": "code",
   "execution_count": 25,
   "metadata": {},
   "outputs": [
    {
     "data": {
      "text/html": [
       "<div>\n",
       "<style scoped>\n",
       "    .dataframe tbody tr th:only-of-type {\n",
       "        vertical-align: middle;\n",
       "    }\n",
       "\n",
       "    .dataframe tbody tr th {\n",
       "        vertical-align: top;\n",
       "    }\n",
       "\n",
       "    .dataframe thead th {\n",
       "        text-align: right;\n",
       "    }\n",
       "</style>\n",
       "<table border=\"1\" class=\"dataframe\">\n",
       "  <thead>\n",
       "    <tr style=\"text-align: right;\">\n",
       "      <th></th>\n",
       "      <th>monthly_posts</th>\n",
       "      <th>Monthly returns</th>\n",
       "      <th>Company</th>\n",
       "    </tr>\n",
       "  </thead>\n",
       "  <tbody>\n",
       "    <tr>\n",
       "      <th>0</th>\n",
       "      <td>406</td>\n",
       "      <td>8.859731</td>\n",
       "      <td>Microsoft</td>\n",
       "    </tr>\n",
       "    <tr>\n",
       "      <th>1</th>\n",
       "      <td>409</td>\n",
       "      <td>0.052748</td>\n",
       "      <td>Microsoft</td>\n",
       "    </tr>\n",
       "    <tr>\n",
       "      <th>2</th>\n",
       "      <td>513</td>\n",
       "      <td>-4.053623</td>\n",
       "      <td>Microsoft</td>\n",
       "    </tr>\n",
       "    <tr>\n",
       "      <th>3</th>\n",
       "      <td>555</td>\n",
       "      <td>6.477285</td>\n",
       "      <td>Microsoft</td>\n",
       "    </tr>\n",
       "    <tr>\n",
       "      <th>4</th>\n",
       "      <td>620</td>\n",
       "      <td>6.522905</td>\n",
       "      <td>Microsoft</td>\n",
       "    </tr>\n",
       "    <tr>\n",
       "      <th>5</th>\n",
       "      <td>588</td>\n",
       "      <td>-0.352538</td>\n",
       "      <td>Microsoft</td>\n",
       "    </tr>\n",
       "    <tr>\n",
       "      <th>6</th>\n",
       "      <td>512</td>\n",
       "      <td>8.552497</td>\n",
       "      <td>Microsoft</td>\n",
       "    </tr>\n",
       "    <tr>\n",
       "      <th>7</th>\n",
       "      <td>477</td>\n",
       "      <td>5.338112</td>\n",
       "      <td>Microsoft</td>\n",
       "    </tr>\n",
       "    <tr>\n",
       "      <th>8</th>\n",
       "      <td>480</td>\n",
       "      <td>3.013081</td>\n",
       "      <td>Microsoft</td>\n",
       "    </tr>\n",
       "    <tr>\n",
       "      <th>9</th>\n",
       "      <td>599</td>\n",
       "      <td>-8.113290</td>\n",
       "      <td>Microsoft</td>\n",
       "    </tr>\n",
       "    <tr>\n",
       "      <th>10</th>\n",
       "      <td>522</td>\n",
       "      <td>3.409622</td>\n",
       "      <td>Microsoft</td>\n",
       "    </tr>\n",
       "    <tr>\n",
       "      <th>11</th>\n",
       "      <td>395</td>\n",
       "      <td>-10.362832</td>\n",
       "      <td>Microsoft</td>\n",
       "    </tr>\n",
       "  </tbody>\n",
       "</table>\n",
       "</div>"
      ],
      "text/plain": [
       "    monthly_posts  Monthly returns    Company\n",
       "0             406         8.859731  Microsoft\n",
       "1             409         0.052748  Microsoft\n",
       "2             513        -4.053623  Microsoft\n",
       "3             555         6.477285  Microsoft\n",
       "4             620         6.522905  Microsoft\n",
       "5             588        -0.352538  Microsoft\n",
       "6             512         8.552497  Microsoft\n",
       "7             477         5.338112  Microsoft\n",
       "8             480         3.013081  Microsoft\n",
       "9             599        -8.113290  Microsoft\n",
       "10            522         3.409622  Microsoft\n",
       "11            395       -10.362832  Microsoft"
      ]
     },
     "execution_count": 25,
     "metadata": {},
     "output_type": "execute_result"
    }
   ],
   "source": [
    "Microsoft_data"
   ]
  },
  {
   "cell_type": "code",
   "execution_count": 26,
   "metadata": {},
   "outputs": [],
   "source": [
    "CVS_jan_data = CVS_stock_data[CVS_stock_data['Date'].str.contains(\"Jan\") ]\n",
    "CVS_feb_data = CVS_stock_data[CVS_stock_data['Date'].str.contains(\"Feb\") ]\n",
    "CVS_mar_data = CVS_stock_data[CVS_stock_data['Date'].str.contains(\"Mar\") ]\n",
    "CVS_apr_data = CVS_stock_data[CVS_stock_data['Date'].str.contains(\"Apr\") ]\n",
    "CVS_may_data = CVS_stock_data[CVS_stock_data['Date'].str.contains(\"May\") ]\n",
    "CVS_jun_data = CVS_stock_data[CVS_stock_data['Date'].str.contains(\"Jun\") ]\n",
    "CVS_jul_data = CVS_stock_data[CVS_stock_data['Date'].str.contains(\"Jul\") ]\n",
    "CVS_aug_data = CVS_stock_data[CVS_stock_data['Date'].str.contains(\"Aug\") ]\n",
    "CVS_sep_data = CVS_stock_data[CVS_stock_data['Date'].str.contains(\"Sep\") ]\n",
    "CVS_oct_data = CVS_stock_data[CVS_stock_data['Date'].str.contains(\"Oct\") ]\n",
    "CVS_nov_data = CVS_stock_data[CVS_stock_data['Date'].str.contains(\"Nov\") ]\n",
    "CVS_dec_data = CVS_stock_data[CVS_stock_data['Date'].str.contains(\"Dec\") ]"
   ]
  },
  {
   "cell_type": "code",
   "execution_count": 27,
   "metadata": {},
   "outputs": [],
   "source": [
    "CVS_returns = [monthly_returns(CVS_jan_data), monthly_returns(CVS_feb_data), monthly_returns(CVS_mar_data), monthly_returns(CVS_apr_data), monthly_returns(CVS_may_data), monthly_returns(CVS_jun_data), monthly_returns(CVS_jul_data), monthly_returns(CVS_aug_data), monthly_returns(CVS_sep_data), monthly_returns(CVS_oct_data), monthly_returns(CVS_nov_data), monthly_returns(CVS_dec_data)]"
   ]
  },
  {
   "cell_type": "code",
   "execution_count": 28,
   "metadata": {},
   "outputs": [],
   "source": [
    "Company3 = ['CVS', 'CVS', 'CVS', 'CVS', 'CVS', 'CVS', 'CVS', 'CVS', 'CVS', 'CVS', 'CVS', 'CVS']"
   ]
  },
  {
   "cell_type": "code",
   "execution_count": 29,
   "metadata": {},
   "outputs": [],
   "source": [
    "CVS_data.insert(1, \"Monthly returns\", CVS_returns, True)\n",
    "CVS_data.insert(2, \"Company\", Company3, True)"
   ]
  },
  {
   "cell_type": "code",
   "execution_count": 30,
   "metadata": {},
   "outputs": [
    {
     "data": {
      "text/html": [
       "<div>\n",
       "<style scoped>\n",
       "    .dataframe tbody tr th:only-of-type {\n",
       "        vertical-align: middle;\n",
       "    }\n",
       "\n",
       "    .dataframe tbody tr th {\n",
       "        vertical-align: top;\n",
       "    }\n",
       "\n",
       "    .dataframe thead th {\n",
       "        text-align: right;\n",
       "    }\n",
       "</style>\n",
       "<table border=\"1\" class=\"dataframe\">\n",
       "  <thead>\n",
       "    <tr style=\"text-align: right;\">\n",
       "      <th></th>\n",
       "      <th>monthly_posts</th>\n",
       "      <th>Monthly returns</th>\n",
       "      <th>Company</th>\n",
       "    </tr>\n",
       "  </thead>\n",
       "  <tbody>\n",
       "    <tr>\n",
       "      <th>0</th>\n",
       "      <td>6</td>\n",
       "      <td>10.320285</td>\n",
       "      <td>CVS</td>\n",
       "    </tr>\n",
       "    <tr>\n",
       "      <th>1</th>\n",
       "      <td>15</td>\n",
       "      <td>-12.681992</td>\n",
       "      <td>CVS</td>\n",
       "    </tr>\n",
       "    <tr>\n",
       "      <th>2</th>\n",
       "      <td>22</td>\n",
       "      <td>-7.400295</td>\n",
       "      <td>CVS</td>\n",
       "    </tr>\n",
       "    <tr>\n",
       "      <th>3</th>\n",
       "      <td>28</td>\n",
       "      <td>13.019658</td>\n",
       "      <td>CVS</td>\n",
       "    </tr>\n",
       "    <tr>\n",
       "      <th>4</th>\n",
       "      <td>40</td>\n",
       "      <td>-4.896721</td>\n",
       "      <td>CVS</td>\n",
       "    </tr>\n",
       "    <tr>\n",
       "      <th>5</th>\n",
       "      <td>48</td>\n",
       "      <td>3.179327</td>\n",
       "      <td>CVS</td>\n",
       "    </tr>\n",
       "    <tr>\n",
       "      <th>6</th>\n",
       "      <td>72</td>\n",
       "      <td>5.505161</td>\n",
       "      <td>CVS</td>\n",
       "    </tr>\n",
       "    <tr>\n",
       "      <th>7</th>\n",
       "      <td>63</td>\n",
       "      <td>14.553846</td>\n",
       "      <td>CVS</td>\n",
       "    </tr>\n",
       "    <tr>\n",
       "      <th>8</th>\n",
       "      <td>72</td>\n",
       "      <td>4.547879</td>\n",
       "      <td>CVS</td>\n",
       "    </tr>\n",
       "    <tr>\n",
       "      <th>9</th>\n",
       "      <td>91</td>\n",
       "      <td>-7.931689</td>\n",
       "      <td>CVS</td>\n",
       "    </tr>\n",
       "    <tr>\n",
       "      <th>10</th>\n",
       "      <td>147</td>\n",
       "      <td>9.650811</td>\n",
       "      <td>CVS</td>\n",
       "    </tr>\n",
       "    <tr>\n",
       "      <th>11</th>\n",
       "      <td>185</td>\n",
       "      <td>-18.403990</td>\n",
       "      <td>CVS</td>\n",
       "    </tr>\n",
       "  </tbody>\n",
       "</table>\n",
       "</div>"
      ],
      "text/plain": [
       "    monthly_posts  Monthly returns Company\n",
       "0               6        10.320285     CVS\n",
       "1              15       -12.681992     CVS\n",
       "2              22        -7.400295     CVS\n",
       "3              28        13.019658     CVS\n",
       "4              40        -4.896721     CVS\n",
       "5              48         3.179327     CVS\n",
       "6              72         5.505161     CVS\n",
       "7              63        14.553846     CVS\n",
       "8              72         4.547879     CVS\n",
       "9              91        -7.931689     CVS\n",
       "10            147         9.650811     CVS\n",
       "11            185       -18.403990     CVS"
      ]
     },
     "execution_count": 30,
     "metadata": {},
     "output_type": "execute_result"
    }
   ],
   "source": [
    "CVS_data"
   ]
  },
  {
   "cell_type": "code",
   "execution_count": 31,
   "metadata": {},
   "outputs": [
    {
     "data": {
      "text/html": [
       "<div>\n",
       "<style scoped>\n",
       "    .dataframe tbody tr th:only-of-type {\n",
       "        vertical-align: middle;\n",
       "    }\n",
       "\n",
       "    .dataframe tbody tr th {\n",
       "        vertical-align: top;\n",
       "    }\n",
       "\n",
       "    .dataframe thead th {\n",
       "        text-align: right;\n",
       "    }\n",
       "</style>\n",
       "<table border=\"1\" class=\"dataframe\">\n",
       "  <thead>\n",
       "    <tr style=\"text-align: right;\">\n",
       "      <th></th>\n",
       "      <th>monthly_posts</th>\n",
       "      <th>Monthly returns</th>\n",
       "      <th>Company</th>\n",
       "    </tr>\n",
       "  </thead>\n",
       "  <tbody>\n",
       "    <tr>\n",
       "      <th>0</th>\n",
       "      <td>1213</td>\n",
       "      <td>8.529708</td>\n",
       "      <td>Walmart</td>\n",
       "    </tr>\n",
       "    <tr>\n",
       "      <th>1</th>\n",
       "      <td>409</td>\n",
       "      <td>-13.174783</td>\n",
       "      <td>Walmart</td>\n",
       "    </tr>\n",
       "    <tr>\n",
       "      <th>2</th>\n",
       "      <td>513</td>\n",
       "      <td>-2.517467</td>\n",
       "      <td>Walmart</td>\n",
       "    </tr>\n",
       "    <tr>\n",
       "      <th>3</th>\n",
       "      <td>555</td>\n",
       "      <td>-0.068182</td>\n",
       "      <td>Walmart</td>\n",
       "    </tr>\n",
       "    <tr>\n",
       "      <th>4</th>\n",
       "      <td>620</td>\n",
       "      <td>-4.254591</td>\n",
       "      <td>Walmart</td>\n",
       "    </tr>\n",
       "    <tr>\n",
       "      <th>5</th>\n",
       "      <td>588</td>\n",
       "      <td>3.444123</td>\n",
       "      <td>Walmart</td>\n",
       "    </tr>\n",
       "    <tr>\n",
       "      <th>6</th>\n",
       "      <td>512</td>\n",
       "      <td>3.911267</td>\n",
       "      <td>Walmart</td>\n",
       "    </tr>\n",
       "    <tr>\n",
       "      <th>7</th>\n",
       "      <td>477</td>\n",
       "      <td>8.248931</td>\n",
       "      <td>Walmart</td>\n",
       "    </tr>\n",
       "    <tr>\n",
       "      <th>8</th>\n",
       "      <td>480</td>\n",
       "      <td>-1.586639</td>\n",
       "      <td>Walmart</td>\n",
       "    </tr>\n",
       "    <tr>\n",
       "      <th>9</th>\n",
       "      <td>599</td>\n",
       "      <td>8.696574</td>\n",
       "      <td>Walmart</td>\n",
       "    </tr>\n",
       "    <tr>\n",
       "      <th>10</th>\n",
       "      <td>522</td>\n",
       "      <td>-2.561024</td>\n",
       "      <td>Walmart</td>\n",
       "    </tr>\n",
       "    <tr>\n",
       "      <th>11</th>\n",
       "      <td>395</td>\n",
       "      <td>-5.458070</td>\n",
       "      <td>Walmart</td>\n",
       "    </tr>\n",
       "  </tbody>\n",
       "</table>\n",
       "</div>"
      ],
      "text/plain": [
       "    monthly_posts  Monthly returns  Company\n",
       "0            1213         8.529708  Walmart\n",
       "1             409       -13.174783  Walmart\n",
       "2             513        -2.517467  Walmart\n",
       "3             555        -0.068182  Walmart\n",
       "4             620        -4.254591  Walmart\n",
       "5             588         3.444123  Walmart\n",
       "6             512         3.911267  Walmart\n",
       "7             477         8.248931  Walmart\n",
       "8             480        -1.586639  Walmart\n",
       "9             599         8.696574  Walmart\n",
       "10            522        -2.561024  Walmart\n",
       "11            395        -5.458070  Walmart"
      ]
     },
     "execution_count": 31,
     "metadata": {},
     "output_type": "execute_result"
    }
   ],
   "source": [
    "Walmart_jan_data = Walmart_stock_data[Walmart_stock_data['Date'].str.contains(\"Jan\") ]\n",
    "Walmart_feb_data = Walmart_stock_data[Walmart_stock_data['Date'].str.contains(\"Feb\") ]\n",
    "Walmart_mar_data = Walmart_stock_data[Walmart_stock_data['Date'].str.contains(\"Mar\") ]\n",
    "Walmart_apr_data = Walmart_stock_data[Walmart_stock_data['Date'].str.contains(\"Apr\") ]\n",
    "Walmart_may_data = Walmart_stock_data[Walmart_stock_data['Date'].str.contains(\"May\") ]\n",
    "Walmart_jun_data = Walmart_stock_data[Walmart_stock_data['Date'].str.contains(\"Jun\") ]\n",
    "Walmart_jul_data = Walmart_stock_data[Walmart_stock_data['Date'].str.contains(\"Jul\") ]\n",
    "Walmart_aug_data = Walmart_stock_data[Walmart_stock_data['Date'].str.contains(\"Aug\") ]\n",
    "Walmart_sep_data = Walmart_stock_data[Walmart_stock_data['Date'].str.contains(\"Sep\") ]\n",
    "Walmart_oct_data = Walmart_stock_data[Walmart_stock_data['Date'].str.contains(\"Oct\") ]\n",
    "Walmart_nov_data = Walmart_stock_data[Walmart_stock_data['Date'].str.contains(\"Nov\") ]\n",
    "Walmart_dec_data = Walmart_stock_data[Walmart_stock_data['Date'].str.contains(\"Dec\") ]\n",
    "\n",
    "Walmart_returns = [monthly_returns(Walmart_jan_data), monthly_returns(Walmart_feb_data), monthly_returns(Walmart_mar_data), monthly_returns(Walmart_apr_data), monthly_returns(Walmart_may_data), monthly_returns(Walmart_jun_data), monthly_returns(Walmart_jul_data), monthly_returns(Walmart_aug_data), monthly_returns(Walmart_sep_data), monthly_returns(Walmart_oct_data), monthly_returns(Walmart_nov_data), monthly_returns(Walmart_dec_data)]\n",
    "Company4 = ['Walmart', 'Walmart', 'Walmart', 'Walmart', 'Walmart', 'Walmart', 'Walmart', 'Walmart', 'Walmart', 'Walmart', 'Walmart', 'Walmart']\n",
    "\n",
    "Walmart_data.insert(1, \"Monthly returns\", Walmart_returns, True)\n",
    "Walmart_data.insert(2, \"Company\", Company4, True)\n",
    "\n",
    "Walmart_data"
   ]
  },
  {
   "cell_type": "code",
   "execution_count": 32,
   "metadata": {},
   "outputs": [
    {
     "data": {
      "text/html": [
       "<div>\n",
       "<style scoped>\n",
       "    .dataframe tbody tr th:only-of-type {\n",
       "        vertical-align: middle;\n",
       "    }\n",
       "\n",
       "    .dataframe tbody tr th {\n",
       "        vertical-align: top;\n",
       "    }\n",
       "\n",
       "    .dataframe thead th {\n",
       "        text-align: right;\n",
       "    }\n",
       "</style>\n",
       "<table border=\"1\" class=\"dataframe\">\n",
       "  <thead>\n",
       "    <tr style=\"text-align: right;\">\n",
       "      <th></th>\n",
       "      <th>monthly_posts</th>\n",
       "      <th>Monthly returns</th>\n",
       "      <th>Company</th>\n",
       "    </tr>\n",
       "  </thead>\n",
       "  <tbody>\n",
       "    <tr>\n",
       "      <th>0</th>\n",
       "      <td>21</td>\n",
       "      <td>21.893491</td>\n",
       "      <td>Boeing</td>\n",
       "    </tr>\n",
       "    <tr>\n",
       "      <th>1</th>\n",
       "      <td>28</td>\n",
       "      <td>3.924069</td>\n",
       "      <td>Boeing</td>\n",
       "    </tr>\n",
       "    <tr>\n",
       "      <th>2</th>\n",
       "      <td>26</td>\n",
       "      <td>-10.749869</td>\n",
       "      <td>Boeing</td>\n",
       "    </tr>\n",
       "    <tr>\n",
       "      <th>3</th>\n",
       "      <td>18</td>\n",
       "      <td>4.910824</td>\n",
       "      <td>Boeing</td>\n",
       "    </tr>\n",
       "    <tr>\n",
       "      <th>4</th>\n",
       "      <td>31</td>\n",
       "      <td>7.317293</td>\n",
       "      <td>Boeing</td>\n",
       "    </tr>\n",
       "    <tr>\n",
       "      <th>5</th>\n",
       "      <td>31</td>\n",
       "      <td>-5.227803</td>\n",
       "      <td>Boeing</td>\n",
       "    </tr>\n",
       "    <tr>\n",
       "      <th>6</th>\n",
       "      <td>58</td>\n",
       "      <td>7.163809</td>\n",
       "      <td>Boeing</td>\n",
       "    </tr>\n",
       "    <tr>\n",
       "      <th>7</th>\n",
       "      <td>53</td>\n",
       "      <td>-2.553023</td>\n",
       "      <td>Boeing</td>\n",
       "    </tr>\n",
       "    <tr>\n",
       "      <th>8</th>\n",
       "      <td>53</td>\n",
       "      <td>7.912763</td>\n",
       "      <td>Boeing</td>\n",
       "    </tr>\n",
       "    <tr>\n",
       "      <th>9</th>\n",
       "      <td>81</td>\n",
       "      <td>-6.037424</td>\n",
       "      <td>Boeing</td>\n",
       "    </tr>\n",
       "    <tr>\n",
       "      <th>10</th>\n",
       "      <td>61</td>\n",
       "      <td>-4.344421</td>\n",
       "      <td>Boeing</td>\n",
       "    </tr>\n",
       "    <tr>\n",
       "      <th>11</th>\n",
       "      <td>62</td>\n",
       "      <td>-12.025473</td>\n",
       "      <td>Boeing</td>\n",
       "    </tr>\n",
       "  </tbody>\n",
       "</table>\n",
       "</div>"
      ],
      "text/plain": [
       "    monthly_posts  Monthly returns Company\n",
       "0              21        21.893491  Boeing\n",
       "1              28         3.924069  Boeing\n",
       "2              26       -10.749869  Boeing\n",
       "3              18         4.910824  Boeing\n",
       "4              31         7.317293  Boeing\n",
       "5              31        -5.227803  Boeing\n",
       "6              58         7.163809  Boeing\n",
       "7              53        -2.553023  Boeing\n",
       "8              53         7.912763  Boeing\n",
       "9              81        -6.037424  Boeing\n",
       "10             61        -4.344421  Boeing\n",
       "11             62       -12.025473  Boeing"
      ]
     },
     "execution_count": 32,
     "metadata": {},
     "output_type": "execute_result"
    }
   ],
   "source": [
    "Boeing_jan_data = Boeing_stock_data[Boeing_stock_data['Date'].str.contains(\"Jan\") ]\n",
    "Boeing_feb_data = Boeing_stock_data[Boeing_stock_data['Date'].str.contains(\"Feb\") ]\n",
    "Boeing_mar_data = Boeing_stock_data[Boeing_stock_data['Date'].str.contains(\"Mar\") ]\n",
    "Boeing_apr_data = Boeing_stock_data[Boeing_stock_data['Date'].str.contains(\"Apr\") ]\n",
    "Boeing_may_data = Boeing_stock_data[Boeing_stock_data['Date'].str.contains(\"May\") ]\n",
    "Boeing_jun_data = Boeing_stock_data[Boeing_stock_data['Date'].str.contains(\"Jun\") ]\n",
    "Boeing_jul_data = Boeing_stock_data[Boeing_stock_data['Date'].str.contains(\"Jul\") ]\n",
    "Boeing_aug_data = Boeing_stock_data[Boeing_stock_data['Date'].str.contains(\"Aug\") ]\n",
    "Boeing_sep_data = Boeing_stock_data[Boeing_stock_data['Date'].str.contains(\"Sep\") ]\n",
    "Boeing_oct_data = Boeing_stock_data[Boeing_stock_data['Date'].str.contains(\"Oct\") ]\n",
    "Boeing_nov_data = Boeing_stock_data[Boeing_stock_data['Date'].str.contains(\"Nov\") ]\n",
    "Boeing_dec_data = Boeing_stock_data[Boeing_stock_data['Date'].str.contains(\"Dec\") ]\n",
    "\n",
    "Boeing_returns = [monthly_returns(Boeing_jan_data), monthly_returns(Boeing_feb_data), monthly_returns(Boeing_mar_data), monthly_returns(Boeing_apr_data), monthly_returns(Boeing_may_data), monthly_returns(Boeing_jun_data), monthly_returns(Boeing_jul_data), monthly_returns(Boeing_aug_data), monthly_returns(Boeing_sep_data), monthly_returns(Boeing_oct_data), monthly_returns(Boeing_nov_data), monthly_returns(Boeing_dec_data)]\n",
    "Company5 = ['Boeing', 'Boeing', 'Boeing', 'Boeing', 'Boeing', 'Boeing', 'Boeing', 'Boeing', 'Boeing', 'Boeing', 'Boeing', 'Boeing']\n",
    "\n",
    "Boeing_data.insert(1, \"Monthly returns\", Boeing_returns, True)\n",
    "Boeing_data.insert(2, \"Company\", Company5, True)\n",
    "\n",
    "Boeing_data"
   ]
  },
  {
   "cell_type": "code",
   "execution_count": 33,
   "metadata": {},
   "outputs": [
    {
     "data": {
      "text/html": [
       "<div>\n",
       "<style scoped>\n",
       "    .dataframe tbody tr th:only-of-type {\n",
       "        vertical-align: middle;\n",
       "    }\n",
       "\n",
       "    .dataframe tbody tr th {\n",
       "        vertical-align: top;\n",
       "    }\n",
       "\n",
       "    .dataframe thead th {\n",
       "        text-align: right;\n",
       "    }\n",
       "</style>\n",
       "<table border=\"1\" class=\"dataframe\">\n",
       "  <thead>\n",
       "    <tr style=\"text-align: right;\">\n",
       "      <th></th>\n",
       "      <th>monthly_posts</th>\n",
       "      <th>Monthly returns</th>\n",
       "      <th>Company</th>\n",
       "    </tr>\n",
       "  </thead>\n",
       "  <tbody>\n",
       "    <tr>\n",
       "      <th>0</th>\n",
       "      <td>139</td>\n",
       "      <td>5.130965</td>\n",
       "      <td>Fedex</td>\n",
       "    </tr>\n",
       "    <tr>\n",
       "      <th>1</th>\n",
       "      <td>96</td>\n",
       "      <td>-3.327523</td>\n",
       "      <td>Fedex</td>\n",
       "    </tr>\n",
       "    <tr>\n",
       "      <th>2</th>\n",
       "      <td>136</td>\n",
       "      <td>-3.819769</td>\n",
       "      <td>Fedex</td>\n",
       "    </tr>\n",
       "    <tr>\n",
       "      <th>3</th>\n",
       "      <td>102</td>\n",
       "      <td>4.975124</td>\n",
       "      <td>Fedex</td>\n",
       "    </tr>\n",
       "    <tr>\n",
       "      <th>4</th>\n",
       "      <td>107</td>\n",
       "      <td>2.556324</td>\n",
       "      <td>Fedex</td>\n",
       "    </tr>\n",
       "    <tr>\n",
       "      <th>5</th>\n",
       "      <td>117</td>\n",
       "      <td>-9.301586</td>\n",
       "      <td>Fedex</td>\n",
       "    </tr>\n",
       "    <tr>\n",
       "      <th>6</th>\n",
       "      <td>157</td>\n",
       "      <td>7.609708</td>\n",
       "      <td>Fedex</td>\n",
       "    </tr>\n",
       "    <tr>\n",
       "      <th>7</th>\n",
       "      <td>179</td>\n",
       "      <td>0.293040</td>\n",
       "      <td>Fedex</td>\n",
       "    </tr>\n",
       "    <tr>\n",
       "      <th>8</th>\n",
       "      <td>480</td>\n",
       "      <td>-1.631816</td>\n",
       "      <td>Fedex</td>\n",
       "    </tr>\n",
       "    <tr>\n",
       "      <th>9</th>\n",
       "      <td>599</td>\n",
       "      <td>-9.650280</td>\n",
       "      <td>Fedex</td>\n",
       "    </tr>\n",
       "    <tr>\n",
       "      <th>10</th>\n",
       "      <td>522</td>\n",
       "      <td>2.805430</td>\n",
       "      <td>Fedex</td>\n",
       "    </tr>\n",
       "    <tr>\n",
       "      <th>11</th>\n",
       "      <td>395</td>\n",
       "      <td>-31.419238</td>\n",
       "      <td>Fedex</td>\n",
       "    </tr>\n",
       "  </tbody>\n",
       "</table>\n",
       "</div>"
      ],
      "text/plain": [
       "    monthly_posts  Monthly returns Company\n",
       "0             139         5.130965   Fedex\n",
       "1              96        -3.327523   Fedex\n",
       "2             136        -3.819769   Fedex\n",
       "3             102         4.975124   Fedex\n",
       "4             107         2.556324   Fedex\n",
       "5             117        -9.301586   Fedex\n",
       "6             157         7.609708   Fedex\n",
       "7             179         0.293040   Fedex\n",
       "8             480        -1.631816   Fedex\n",
       "9             599        -9.650280   Fedex\n",
       "10            522         2.805430   Fedex\n",
       "11            395       -31.419238   Fedex"
      ]
     },
     "execution_count": 33,
     "metadata": {},
     "output_type": "execute_result"
    }
   ],
   "source": [
    "Fedex_jan_data = Fedex_stock_data[Fedex_stock_data['Date'].str.contains(\"Jan\") ]\n",
    "Fedex_feb_data = Fedex_stock_data[Fedex_stock_data['Date'].str.contains(\"Feb\") ]\n",
    "Fedex_mar_data = Fedex_stock_data[Fedex_stock_data['Date'].str.contains(\"Mar\") ]\n",
    "Fedex_apr_data = Fedex_stock_data[Fedex_stock_data['Date'].str.contains(\"Apr\") ]\n",
    "Fedex_may_data = Fedex_stock_data[Fedex_stock_data['Date'].str.contains(\"May\") ]\n",
    "Fedex_jun_data = Fedex_stock_data[Fedex_stock_data['Date'].str.contains(\"Jun\") ]\n",
    "Fedex_jul_data = Fedex_stock_data[Fedex_stock_data['Date'].str.contains(\"Jul\") ]\n",
    "Fedex_aug_data = Fedex_stock_data[Fedex_stock_data['Date'].str.contains(\"Aug\") ]\n",
    "Fedex_sep_data = Fedex_stock_data[Fedex_stock_data['Date'].str.contains(\"Sep\") ]\n",
    "Fedex_oct_data = Fedex_stock_data[Fedex_stock_data['Date'].str.contains(\"Oct\") ]\n",
    "Fedex_nov_data = Fedex_stock_data[Fedex_stock_data['Date'].str.contains(\"Nov\") ]\n",
    "Fedex_dec_data = Fedex_stock_data[Fedex_stock_data['Date'].str.contains(\"Dec\") ]\n",
    "\n",
    "Fedex_returns = [monthly_returns(Fedex_jan_data), monthly_returns(Fedex_feb_data), monthly_returns(Fedex_mar_data), monthly_returns(Fedex_apr_data), monthly_returns(Fedex_may_data), monthly_returns(Fedex_jun_data), monthly_returns(Fedex_jul_data), monthly_returns(Fedex_aug_data), monthly_returns(Fedex_sep_data), monthly_returns(Fedex_oct_data), monthly_returns(Fedex_nov_data), monthly_returns(Fedex_dec_data)]\n",
    "Company6 = ['Fedex', 'Fedex', 'Fedex', 'Fedex', 'Fedex', 'Fedex', 'Fedex', 'Fedex', 'Fedex', 'Fedex', 'Fedex', 'Fedex']\n",
    "\n",
    "Fedex_data.insert(1, \"Monthly returns\", Fedex_returns, True)\n",
    "Fedex_data.insert(2, \"Company\", Company6, True)\n",
    "\n",
    "Fedex_data"
   ]
  },
  {
   "cell_type": "code",
   "execution_count": 34,
   "metadata": {},
   "outputs": [
    {
     "data": {
      "text/html": [
       "<div>\n",
       "<style scoped>\n",
       "    .dataframe tbody tr th:only-of-type {\n",
       "        vertical-align: middle;\n",
       "    }\n",
       "\n",
       "    .dataframe tbody tr th {\n",
       "        vertical-align: top;\n",
       "    }\n",
       "\n",
       "    .dataframe thead th {\n",
       "        text-align: right;\n",
       "    }\n",
       "</style>\n",
       "<table border=\"1\" class=\"dataframe\">\n",
       "  <thead>\n",
       "    <tr style=\"text-align: right;\">\n",
       "      <th></th>\n",
       "      <th>monthly_posts</th>\n",
       "      <th>Monthly returns</th>\n",
       "      <th>Company</th>\n",
       "    </tr>\n",
       "  </thead>\n",
       "  <tbody>\n",
       "    <tr>\n",
       "      <th>0</th>\n",
       "      <td>9</td>\n",
       "      <td>4.293160</td>\n",
       "      <td>Accenture</td>\n",
       "    </tr>\n",
       "    <tr>\n",
       "      <th>1</th>\n",
       "      <td>10</td>\n",
       "      <td>1.710789</td>\n",
       "      <td>Accenture</td>\n",
       "    </tr>\n",
       "    <tr>\n",
       "      <th>2</th>\n",
       "      <td>14</td>\n",
       "      <td>-8.054315</td>\n",
       "      <td>Accenture</td>\n",
       "    </tr>\n",
       "    <tr>\n",
       "      <th>3</th>\n",
       "      <td>23</td>\n",
       "      <td>0.889211</td>\n",
       "      <td>Accenture</td>\n",
       "    </tr>\n",
       "    <tr>\n",
       "      <th>4</th>\n",
       "      <td>14</td>\n",
       "      <td>3.249719</td>\n",
       "      <td>Accenture</td>\n",
       "    </tr>\n",
       "    <tr>\n",
       "      <th>5</th>\n",
       "      <td>6</td>\n",
       "      <td>4.619600</td>\n",
       "      <td>Accenture</td>\n",
       "    </tr>\n",
       "    <tr>\n",
       "      <th>6</th>\n",
       "      <td>10</td>\n",
       "      <td>-0.988264</td>\n",
       "      <td>Accenture</td>\n",
       "    </tr>\n",
       "    <tr>\n",
       "      <th>7</th>\n",
       "      <td>15</td>\n",
       "      <td>5.239848</td>\n",
       "      <td>Accenture</td>\n",
       "    </tr>\n",
       "    <tr>\n",
       "      <th>8</th>\n",
       "      <td>17</td>\n",
       "      <td>0.728846</td>\n",
       "      <td>Accenture</td>\n",
       "    </tr>\n",
       "    <tr>\n",
       "      <th>9</th>\n",
       "      <td>34</td>\n",
       "      <td>-8.718009</td>\n",
       "      <td>Accenture</td>\n",
       "    </tr>\n",
       "    <tr>\n",
       "      <th>10</th>\n",
       "      <td>32</td>\n",
       "      <td>2.450918</td>\n",
       "      <td>Accenture</td>\n",
       "    </tr>\n",
       "    <tr>\n",
       "      <th>11</th>\n",
       "      <td>18</td>\n",
       "      <td>-15.406399</td>\n",
       "      <td>Accenture</td>\n",
       "    </tr>\n",
       "  </tbody>\n",
       "</table>\n",
       "</div>"
      ],
      "text/plain": [
       "    monthly_posts  Monthly returns    Company\n",
       "0               9         4.293160  Accenture\n",
       "1              10         1.710789  Accenture\n",
       "2              14        -8.054315  Accenture\n",
       "3              23         0.889211  Accenture\n",
       "4              14         3.249719  Accenture\n",
       "5               6         4.619600  Accenture\n",
       "6              10        -0.988264  Accenture\n",
       "7              15         5.239848  Accenture\n",
       "8              17         0.728846  Accenture\n",
       "9              34        -8.718009  Accenture\n",
       "10             32         2.450918  Accenture\n",
       "11             18       -15.406399  Accenture"
      ]
     },
     "execution_count": 34,
     "metadata": {},
     "output_type": "execute_result"
    }
   ],
   "source": [
    "Accenture_jan_data = Accenture_stock_data[Accenture_stock_data['Date'].str.contains(\"Jan\") ]\n",
    "Accenture_feb_data = Accenture_stock_data[Accenture_stock_data['Date'].str.contains(\"Feb\") ]\n",
    "Accenture_mar_data = Accenture_stock_data[Accenture_stock_data['Date'].str.contains(\"Mar\") ]\n",
    "Accenture_apr_data = Accenture_stock_data[Accenture_stock_data['Date'].str.contains(\"Apr\") ]\n",
    "Accenture_may_data = Accenture_stock_data[Accenture_stock_data['Date'].str.contains(\"May\") ]\n",
    "Accenture_jun_data = Accenture_stock_data[Accenture_stock_data['Date'].str.contains(\"Jun\") ]\n",
    "Accenture_jul_data = Accenture_stock_data[Accenture_stock_data['Date'].str.contains(\"Jul\") ]\n",
    "Accenture_aug_data = Accenture_stock_data[Accenture_stock_data['Date'].str.contains(\"Aug\") ]\n",
    "Accenture_sep_data = Accenture_stock_data[Accenture_stock_data['Date'].str.contains(\"Sep\") ]\n",
    "Accenture_oct_data = Accenture_stock_data[Accenture_stock_data['Date'].str.contains(\"Oct\") ]\n",
    "Accenture_nov_data = Accenture_stock_data[Accenture_stock_data['Date'].str.contains(\"Nov\") ]\n",
    "Accenture_dec_data = Accenture_stock_data[Accenture_stock_data['Date'].str.contains(\"Dec\") ]\n",
    "\n",
    "Accenture_returns = [monthly_returns(Accenture_jan_data), monthly_returns(Accenture_feb_data), monthly_returns(Accenture_mar_data), monthly_returns(Accenture_apr_data), monthly_returns(Accenture_may_data), monthly_returns(Accenture_jun_data), monthly_returns(Accenture_jul_data), monthly_returns(Accenture_aug_data), monthly_returns(Accenture_sep_data), monthly_returns(Accenture_oct_data), monthly_returns(Accenture_nov_data), monthly_returns(Accenture_dec_data)]\n",
    "Company7 = ['Accenture', 'Accenture', 'Accenture', 'Accenture', 'Accenture', 'Accenture', 'Accenture', 'Accenture', 'Accenture', 'Accenture', 'Accenture', 'Accenture']\n",
    "\n",
    "Accenture_data.insert(1, \"Monthly returns\", Accenture_returns, True)\n",
    "Accenture_data.insert(2, \"Company\", Company7, True)\n",
    "\n",
    "Accenture_data"
   ]
  },
  {
   "cell_type": "code",
   "execution_count": 35,
   "metadata": {},
   "outputs": [
    {
     "data": {
      "text/plain": [
       "<seaborn.axisgrid.PairGrid at 0x226ef2dfd68>"
      ]
     },
     "execution_count": 35,
     "metadata": {},
     "output_type": "execute_result"
    },
    {
     "data": {
      "image/png": "[encoded data removed]",
      "text/plain": [
       "<Figure size 360x360 with 6 Axes>"
      ]
     },
     "metadata": {
      "needs_background": "light"
     },
     "output_type": "display_data"
    }
   ],
   "source": [
    "sns.pairplot(Nike_data)"
   ]
  },
  {
   "cell_type": "code",
   "execution_count": 36,
   "metadata": {},
   "outputs": [
    {
     "data": {
      "text/plain": [
       "<statsmodels.regression.linear_model.RegressionResultsWrapper at 0x226eedf3978>"
      ]
     },
     "execution_count": 36,
     "metadata": {},
     "output_type": "execute_result"
    }
   ],
   "source": [
    "x = Nike_data[\"monthly_posts\"]\n",
    "y = Nike_data[\"Monthly returns\"]\n",
    "model = sm.OLS(y, x).fit()\n",
    "model"
   ]
  },
  {
   "cell_type": "code",
   "execution_count": 37,
   "metadata": {},
   "outputs": [],
   "source": [
    "predictions = model.predict(x)"
   ]
  },
  {
   "cell_type": "code",
   "execution_count": 38,
   "metadata": {},
   "outputs": [
    {
     "name": "stderr",
     "output_type": "stream",
     "text": [
      "C:\\Users\\Lucas\\Anaconda3\\envs\\PyLucas\\lib\\site-packages\\scipy\\stats\\stats.py:1416: UserWarning: kurtosistest only valid for n>=20 ... continuing anyway, n=12\n",
      "  \"anyway, n=%i\" % int(n))\n"
     ]
    },
    {
     "data": {
      "text/html": [
       "<table class=\"simpletable\">\n",
       "<caption>OLS Regression Results</caption>\n",
       "<tr>\n",
       "  <th>Dep. Variable:</th>     <td>Monthly returns</td> <th>  R-squared (uncentered):</th>      <td>   0.000</td>\n",
       "</tr>\n",
       "<tr>\n",
       "  <th>Model:</th>                   <td>OLS</td>       <th>  Adj. R-squared (uncentered):</th> <td>  -0.091</td>\n",
       "</tr>\n",
       "<tr>\n",
       "  <th>Method:</th>             <td>Least Squares</td>  <th>  F-statistic:       </th>          <td>0.001298</td>\n",
       "</tr>\n",
       "<tr>\n",
       "  <th>Date:</th>             <td>Wed, 31 Jul 2019</td> <th>  Prob (F-statistic):</th>           <td> 0.972</td> \n",
       "</tr>\n",
       "<tr>\n",
       "  <th>Time:</th>                 <td>13:34:25</td>     <th>  Log-Likelihood:    </th>          <td> -38.634</td>\n",
       "</tr>\n",
       "<tr>\n",
       "  <th>No. Observations:</th>      <td>    12</td>      <th>  AIC:               </th>          <td>   79.27</td>\n",
       "</tr>\n",
       "<tr>\n",
       "  <th>Df Residuals:</th>          <td>    11</td>      <th>  BIC:               </th>          <td>   79.75</td>\n",
       "</tr>\n",
       "<tr>\n",
       "  <th>Df Model:</th>              <td>     1</td>      <th>                     </th>              <td> </td>   \n",
       "</tr>\n",
       "<tr>\n",
       "  <th>Covariance Type:</th>      <td>nonrobust</td>    <th>                     </th>              <td> </td>   \n",
       "</tr>\n",
       "</table>\n",
       "<table class=\"simpletable\">\n",
       "<tr>\n",
       "        <td></td>           <th>coef</th>     <th>std err</th>      <th>t</th>      <th>P>|t|</th>  <th>[0.025</th>    <th>0.975]</th>  \n",
       "</tr>\n",
       "<tr>\n",
       "  <th>monthly_posts</th> <td>   -0.0002</td> <td>    0.005</td> <td>   -0.036</td> <td> 0.972</td> <td>   -0.011</td> <td>    0.011</td>\n",
       "</tr>\n",
       "</table>\n",
       "<table class=\"simpletable\">\n",
       "<tr>\n",
       "  <th>Omnibus:</th>       <td> 1.423</td> <th>  Durbin-Watson:     </th> <td>   1.717</td>\n",
       "</tr>\n",
       "<tr>\n",
       "  <th>Prob(Omnibus):</th> <td> 0.491</td> <th>  Jarque-Bera (JB):  </th> <td>   0.926</td>\n",
       "</tr>\n",
       "<tr>\n",
       "  <th>Skew:</th>          <td>-0.637</td> <th>  Prob(JB):          </th> <td>   0.629</td>\n",
       "</tr>\n",
       "<tr>\n",
       "  <th>Kurtosis:</th>      <td> 2.519</td> <th>  Cond. No.          </th> <td>    1.00</td>\n",
       "</tr>\n",
       "</table><br/><br/>Warnings:<br/>[1] Standard Errors assume that the covariance matrix of the errors is correctly specified."
      ],
      "text/plain": [
       "<class 'statsmodels.iolib.summary.Summary'>\n",
       "\"\"\"\n",
       "                                 OLS Regression Results                                \n",
       "=======================================================================================\n",
       "Dep. Variable:        Monthly returns   R-squared (uncentered):                   0.000\n",
       "Model:                            OLS   Adj. R-squared (uncentered):             -0.091\n",
       "Method:                 Least Squares   F-statistic:                           0.001298\n",
       "Date:                Wed, 31 Jul 2019   Prob (F-statistic):                       0.972\n",
       "Time:                        13:34:25   Log-Likelihood:                         -38.634\n",
       "No. Observations:                  12   AIC:                                      79.27\n",
       "Df Residuals:                      11   BIC:                                      79.75\n",
       "Df Model:                           1                                                  \n",
       "Covariance Type:            nonrobust                                                  \n",
       "=================================================================================\n",
       "                    coef    std err          t      P>|t|      [0.025      0.975]\n",
       "---------------------------------------------------------------------------------\n",
       "monthly_posts    -0.0002      0.005     -0.036      0.972      -0.011       0.011\n",
       "==============================================================================\n",
       "Omnibus:                        1.423   Durbin-Watson:                   1.717\n",
       "Prob(Omnibus):                  0.491   Jarque-Bera (JB):                0.926\n",
       "Skew:                          -0.637   Prob(JB):                        0.629\n",
       "Kurtosis:                       2.519   Cond. No.                         1.00\n",
       "==============================================================================\n",
       "\n",
       "Warnings:\n",
       "[1] Standard Errors assume that the covariance matrix of the errors is correctly specified.\n",
       "\"\"\""
      ]
     },
     "execution_count": 38,
     "metadata": {},
     "output_type": "execute_result"
    }
   ],
   "source": [
    "model.summary()"
   ]
  },
  {
   "cell_type": "code",
   "execution_count": 39,
   "metadata": {},
   "outputs": [
    {
     "data": {
      "image/png": "[encoded data removed]",
      "text/plain": [
       "<Figure size 720x504 with 1 Axes>"
      ]
     },
     "metadata": {
      "needs_background": "light"
     },
     "output_type": "display_data"
    }
   ],
   "source": [
    "fig = plt.figure(figsize=(10,7))\n",
    "\n",
    "sns.regplot(x = Nike_data['monthly_posts'], y = Nike_data['Monthly returns'], color = 'blue', marker = '+')\n",
    "\n",
    "plt.title('Relationship between Reddit posts and Nike returns', size=20)\n",
    "\n",
    "plt.xlabel('Posts', size=18)\n",
    "\n",
    "plt.ylabel('Monthly returns in %', size=18);\n",
    "\n",
    "#sns.regplot(x = Nike_data.Height, y = Nike_data.Weight, color = 'magenta', marker = '+')"
   ]
  },
  {
   "cell_type": "code",
   "execution_count": 40,
   "metadata": {},
   "outputs": [
    {
     "name": "stdout",
     "output_type": "stream",
     "text": [
      "[[ 1.         -0.55142854]\n",
      " [-0.55142854  1.        ]]\n",
      "[[1.         0.07009015]\n",
      " [0.07009015 1.        ]]\n",
      "[[ 1.         -0.25962879]\n",
      " [-0.25962879  1.        ]]\n",
      "[[1.         0.52125135]\n",
      " [0.52125135 1.        ]]\n",
      "[[ 1.         -0.41551933]\n",
      " [-0.41551933  1.        ]]\n",
      "[[ 1.         -0.35145711]\n",
      " [-0.35145711  1.        ]]\n",
      "[[ 1.         -0.33425088]\n",
      " [-0.33425088  1.        ]]\n"
     ]
    }
   ],
   "source": [
    "print(np.corrcoef(Nike_data['monthly_posts'], Nike_data['Monthly returns']))\n",
    "print(np.corrcoef(Microsoft_data['monthly_posts'], Microsoft_data['Monthly returns']))\n",
    "print(np.corrcoef(CVS_data['monthly_posts'], CVS_data['Monthly returns']))\n",
    "print(np.corrcoef(Walmart_data['monthly_posts'], Walmart_data['Monthly returns']))\n",
    "print(np.corrcoef(Boeing_data['monthly_posts'], Boeing_data['Monthly returns']))\n",
    "print(np.corrcoef(Fedex_data['monthly_posts'], Fedex_data['Monthly returns']))\n",
    "print(np.corrcoef(Accenture_data['monthly_posts'], Accenture_data['Monthly returns']))"
   ]
  },
  {
   "cell_type": "code",
   "execution_count": 51,
   "metadata": {},
   "outputs": [
    {
     "name": "stdout",
     "output_type": "stream",
     "text": [
      "    monthly_posts  Monthly returns    Company\n",
      "0             149         7.398568       Nike\n",
      "1             149         0.635437       Nike\n",
      "2             184        -2.290303       Nike\n",
      "3             179         5.472184       Nike\n",
      "4             142         5.913504       Nike\n",
      "5             168         9.206877       Nike\n",
      "6             467        -2.723339       Nike\n",
      "7             477         6.209150       Nike\n",
      "8             480         6.172062       Nike\n",
      "9             599       -11.280846       Nike\n",
      "10            522        -1.395720       Nike\n",
      "11            395        -4.046693       Nike\n",
      "12            406         8.859731  Microsoft\n",
      "13            409         0.052748  Microsoft\n",
      "14            513        -4.053623  Microsoft\n",
      "15            555         6.477285  Microsoft\n",
      "16            620         6.522905  Microsoft\n",
      "17            588        -0.352538  Microsoft\n",
      "18            512         8.552497  Microsoft\n",
      "19            477         5.338112  Microsoft\n",
      "20            480         3.013081  Microsoft\n",
      "21            599        -8.113290  Microsoft\n",
      "22            522         3.409622  Microsoft\n",
      "23            395       -10.362832  Microsoft\n",
      "24              6        10.320285        CVS\n",
      "25             15       -12.681992        CVS\n",
      "26             22        -7.400295        CVS\n",
      "27             28        13.019658        CVS\n",
      "28             40        -4.896721        CVS\n",
      "29             48         3.179327        CVS\n"
     ]
    }
   ],
   "source": [
    "merged_df = pd.merge(Nike_data, Microsoft_data, how='outer')\n",
    "merged_df = pd.merge(merged_df, CVS_data, how='outer')\n",
    "merged_df = pd.merge(merged_df, Walmart_data, how='outer')\n",
    "merged_df = pd.merge(merged_df, Boeing_data, how='outer')\n",
    "merged_df = pd.merge(merged_df, Fedex_data, how='outer')\n",
    "merged_df = pd.merge(merged_df, Accenture_data, how='outer')\n",
    "print(merged_df.head(30))\n",
    "\n",
    "negative_df = pd.merge(Nike_data, CVS_data, how='outer')\n",
    "negative_df = pd.merge(negative_df, Boeing_data, how='outer')\n",
    "negative_df = pd.merge(negative_df, Fedex_data, how='outer')\n",
    "negative_df = pd.merge(negative_df, Accenture_data, how='outer')\n",
    "\n",
    "positive_df = pd.merge(Microsoft_data, Walmart_data, how='outer')"
   ]
  },
  {
   "cell_type": "code",
   "execution_count": 42,
   "metadata": {},
   "outputs": [
    {
     "name": "stdout",
     "output_type": "stream",
     "text": [
      "[[ 1.         -0.01921786]\n",
      " [-0.01921786  1.        ]]\n"
     ]
    }
   ],
   "source": [
    "print(np.corrcoef(merged_df['monthly_posts'], merged_df['Monthly returns']))"
   ]
  },
  {
   "cell_type": "code",
   "execution_count": 59,
   "metadata": {},
   "outputs": [
    {
     "data": {
      "text/plain": [
       "Text(0, 0.5, 'Monthly returns (%)')"
      ]
     },
     "execution_count": 59,
     "metadata": {},
     "output_type": "execute_result"
    },
    {
     "data": {
      "image/png": "[encoded data removed]",
      "text/plain": [
       "<Figure size 720x504 with 1 Axes>"
      ]
     },
     "metadata": {
      "needs_background": "light"
     },
     "output_type": "display_data"
    }
   ],
   "source": [
    "fig = plt.figure(figsize=(10,7))\n",
    "\n",
    "sns.regplot(x = merged_df['monthly_posts'], y = merged_df['Monthly returns'], color = 'blue', marker = '+')\n",
    "\n",
    "sns.lmplot(x = merged_df['monthly_posts'], y = merged_df['Monthly returns'], hue = merged_df['Company'], data=merged_df)\n",
    "\n",
    "\n",
    "plt.title('Reddit posts and returns in all studies companies', size=20)\n",
    "\n",
    "plt.xlabel('Monthly Posts', size=18)\n",
    "\n",
    "plt.ylabel('Monthly returns (%)', size=18)\n",
    "\n",
    "#plt.ylim(-5, 5)\n",
    "#plt.xlim(0, 800)"
   ]
  },
  {
   "cell_type": "code",
   "execution_count": 44,
   "metadata": {},
   "outputs": [
    {
     "data": {
      "text/plain": [
       "Text(0, 0.5, 'Monthly returns (%)')"
      ]
     },
     "execution_count": 44,
     "metadata": {},
     "output_type": "execute_result"
    },
    {
     "data": {
      "image/png": "[encoded data removed]",
      "text/plain": [
       "<Figure size 720x504 with 1 Axes>"
      ]
     },
     "metadata": {
      "needs_background": "light"
     },
     "output_type": "display_data"
    }
   ],
   "source": [
    "# Below we can see that the graph on Microsoft and Walmart has a positive correlation. This is largely caused by the outlier\n",
    "# far to the right. I do however chose to include this point because it is a relevant data point that is caused by a sudden\n",
    "# increase in posts during that month, and it can be seen that returns are positively affected, which is the study of interest.\n",
    "# The point is certainly valid and relevant for the analysis.\n",
    "\n",
    "fig = plt.figure(figsize=(10,7))\n",
    "\n",
    "positive_firm_graph = sns.regplot(x = positive_df['monthly_posts'], y = positive_df['Monthly returns'], color = 'blue', marker = '+')\n",
    "\n",
    "plt.title('Reddit posts and returns in Tech and Consumer-service industries', size=16)\n",
    "\n",
    "plt.xlabel('Monthly Posts', size=18)\n",
    "\n",
    "plt.ylabel('Monthly returns (%)', size=18)\n",
    "\n",
    "#plt.ylim(-7.5, 7.5)\n",
    "#plt.xlim(380, 650)\n"
   ]
  },
  {
   "cell_type": "code",
   "execution_count": 45,
   "metadata": {},
   "outputs": [
    {
     "data": {
      "text/plain": [
       "Text(0, 0.5, 'Monthly returns (%)')"
      ]
     },
     "execution_count": 45,
     "metadata": {},
     "output_type": "execute_result"
    },
    {
     "data": {
      "image/png": "[encoded data removed]",
      "text/plain": [
       "<Figure size 720x504 with 1 Axes>"
      ]
     },
     "metadata": {
      "needs_background": "light"
     },
     "output_type": "display_data"
    }
   ],
   "source": [
    "fig = plt.figure(figsize=(10,7))\n",
    "\n",
    "negative_firm_graph = sns.regplot(x = negative_df['monthly_posts'], y = negative_df['Monthly returns'], color = 'blue', marker = '+')\n",
    "\n",
    "\n",
    "plt.title('Reddit posts and returns in other industries', size=18)\n",
    "\n",
    "plt.xlabel('Monthly Posts', size=18)\n",
    "\n",
    "plt.ylabel('Monthly returns (%)', size=18)\n",
    "\n",
    "#plt.ylim(-15, 15)\n",
    "#plt.xlim(-20, 630)"
   ]
  },
  {
   "cell_type": "code",
   "execution_count": 46,
   "metadata": {},
   "outputs": [
    {
     "data": {
      "text/html": [
       "<div>\n",
       "<style scoped>\n",
       "    .dataframe tbody tr th:only-of-type {\n",
       "        vertical-align: middle;\n",
       "    }\n",
       "\n",
       "    .dataframe tbody tr th {\n",
       "        vertical-align: top;\n",
       "    }\n",
       "\n",
       "    .dataframe thead th {\n",
       "        text-align: right;\n",
       "    }\n",
       "</style>\n",
       "<table border=\"1\" class=\"dataframe\">\n",
       "  <thead>\n",
       "    <tr style=\"text-align: right;\">\n",
       "      <th></th>\n",
       "      <th>monthly_posts</th>\n",
       "      <th>Monthly returns</th>\n",
       "    </tr>\n",
       "  </thead>\n",
       "  <tbody>\n",
       "    <tr>\n",
       "      <th>monthly_posts</th>\n",
       "      <td>1.000000</td>\n",
       "      <td>-0.205446</td>\n",
       "    </tr>\n",
       "    <tr>\n",
       "      <th>Monthly returns</th>\n",
       "      <td>-0.205446</td>\n",
       "      <td>1.000000</td>\n",
       "    </tr>\n",
       "  </tbody>\n",
       "</table>\n",
       "</div>"
      ],
      "text/plain": [
       "                 monthly_posts  Monthly returns\n",
       "monthly_posts         1.000000        -0.205446\n",
       "Monthly returns      -0.205446         1.000000"
      ]
     },
     "execution_count": 46,
     "metadata": {},
     "output_type": "execute_result"
    }
   ],
   "source": [
    "negative_df.corr(method='pearson')"
   ]
  },
  {
   "cell_type": "code",
   "execution_count": 47,
   "metadata": {},
   "outputs": [
    {
     "data": {
      "text/html": [
       "<div>\n",
       "<style scoped>\n",
       "    .dataframe tbody tr th:only-of-type {\n",
       "        vertical-align: middle;\n",
       "    }\n",
       "\n",
       "    .dataframe tbody tr th {\n",
       "        vertical-align: top;\n",
       "    }\n",
       "\n",
       "    .dataframe thead th {\n",
       "        text-align: right;\n",
       "    }\n",
       "</style>\n",
       "<table border=\"1\" class=\"dataframe\">\n",
       "  <thead>\n",
       "    <tr style=\"text-align: right;\">\n",
       "      <th></th>\n",
       "      <th>monthly_posts</th>\n",
       "      <th>Monthly returns</th>\n",
       "    </tr>\n",
       "  </thead>\n",
       "  <tbody>\n",
       "    <tr>\n",
       "      <th>monthly_posts</th>\n",
       "      <td>1.000000</td>\n",
       "      <td>-0.551429</td>\n",
       "    </tr>\n",
       "    <tr>\n",
       "      <th>Monthly returns</th>\n",
       "      <td>-0.551429</td>\n",
       "      <td>1.000000</td>\n",
       "    </tr>\n",
       "  </tbody>\n",
       "</table>\n",
       "</div>"
      ],
      "text/plain": [
       "                 monthly_posts  Monthly returns\n",
       "monthly_posts         1.000000        -0.551429\n",
       "Monthly returns      -0.551429         1.000000"
      ]
     },
     "execution_count": 47,
     "metadata": {},
     "output_type": "execute_result"
    }
   ],
   "source": [
    "Nike_data.corr(method='pearson')"
   ]
  },
  {
   "cell_type": "code",
   "execution_count": 48,
   "metadata": {},
   "outputs": [],
   "source": [
    "# check for independence"
   ]
  },
  {
   "cell_type": "code",
   "execution_count": 60,
   "metadata": {},
   "outputs": [
    {
     "ename": "NameError",
     "evalue": "name 'ticker' is not defined",
     "output_type": "error",
     "traceback": [
      "\u001b[1;31m---------------------------------------------------------------------------\u001b[0m",
      "\u001b[1;31mNameError\u001b[0m                                 Traceback (most recent call last)",
      "\u001b[1;32m<ipython-input-60-ba39a54c63cb>\u001b[0m in \u001b[0;36m<module>\u001b[1;34m\u001b[0m\n\u001b[0;32m      1\u001b[0m \u001b[1;31m# What about making a bar chart with 5-10 percentile classes and show responding average returns for each bar.\u001b[0m\u001b[1;33m\u001b[0m\u001b[1;33m\u001b[0m\u001b[1;33m\u001b[0m\u001b[0m\n\u001b[0;32m      2\u001b[0m \u001b[0mnegative_bar\u001b[0m \u001b[1;33m=\u001b[0m \u001b[0msns\u001b[0m\u001b[1;33m.\u001b[0m\u001b[0mbarplot\u001b[0m\u001b[1;33m(\u001b[0m\u001b[0mnegative_df\u001b[0m\u001b[1;33m[\u001b[0m\u001b[1;34m'monthly_posts'\u001b[0m\u001b[1;33m]\u001b[0m\u001b[1;33m,\u001b[0m \u001b[0mnegative_df\u001b[0m\u001b[1;33m[\u001b[0m\u001b[1;34m'Monthly returns'\u001b[0m\u001b[1;33m]\u001b[0m\u001b[1;33m)\u001b[0m\u001b[1;33m\u001b[0m\u001b[1;33m\u001b[0m\u001b[0m\n\u001b[1;32m----> 3\u001b[1;33m \u001b[0mnegative_bar\u001b[0m\u001b[1;33m.\u001b[0m\u001b[0mxaxis\u001b[0m\u001b[1;33m.\u001b[0m\u001b[0mset_major_locator\u001b[0m\u001b[1;33m(\u001b[0m\u001b[0mticker\u001b[0m\u001b[1;33m.\u001b[0m\u001b[0mMultipleLocator\u001b[0m\u001b[1;33m(\u001b[0m\u001b[1;36m5\u001b[0m\u001b[1;33m)\u001b[0m\u001b[1;33m)\u001b[0m\u001b[1;33m\u001b[0m\u001b[1;33m\u001b[0m\u001b[0m\n\u001b[0m",
      "\u001b[1;31mNameError\u001b[0m: name 'ticker' is not defined"
     ]
    },
    {
     "data": {
      "image/png": "[encoded data removed]",
      "text/plain": [
       "<Figure size 432x288 with 1 Axes>"
      ]
     },
     "metadata": {
      "needs_background": "light"
     },
     "output_type": "display_data"
    }
   ],
   "source": [
    "# What about making a bar chart with 5-10 percentile classes and show responding average returns for each bar.\n",
    "negative_bar = sns.barplot(negative_df['monthly_posts'], negative_df['Monthly returns'])\n",
    "negative_bar.xaxis.set_major_locator(ticker.MultipleLocator(5))"
   ]
  },
  {
   "cell_type": "code",
   "execution_count": null,
   "metadata": {},
   "outputs": [],
   "source": [
    "sns.barplot(positive_df['monthly_posts'], positive_df['Monthly returns'])"
   ]
  },
  {
   "cell_type": "code",
   "execution_count": null,
   "metadata": {},
   "outputs": [],
   "source": [
    "import matplotlib.ticker as ticker\n",
    "merged_bar = sns.barplot(merged_df['monthly_posts'], merged_df['Monthly returns'])\n",
    "merged_bar.xaxis.set_major_locator(ticker.MultipleLocator(10))"
   ]
  },
  {
   "cell_type": "code",
   "execution_count": null,
   "metadata": {},
   "outputs": [],
   "source": [
    "sns.barplot(Nike_data['monthly_posts'], Nike_data['Monthly returns'])"
   ]
  },
  {
   "cell_type": "code",
   "execution_count": null,
   "metadata": {},
   "outputs": [],
   "source": [
    "sns.barplot(CVS_data['monthly_posts'], CVS_data['Monthly returns'])"
   ]
  },
  {
   "cell_type": "code",
   "execution_count": null,
   "metadata": {},
   "outputs": [],
   "source": [
    "sns.barplot(Boeing_data['monthly_posts'], Boeing_data['Monthly returns'])"
   ]
  },
  {
   "cell_type": "code",
   "execution_count": null,
   "metadata": {},
   "outputs": [],
   "source": [
    "sns.barplot(Fedex_data['monthly_posts'], Fedex_data['Monthly returns'])"
   ]
  },
  {
   "cell_type": "code",
   "execution_count": null,
   "metadata": {},
   "outputs": [],
   "source": [
    "sns.barplot(Accenture_data['monthly_posts'], Accenture_data['Monthly returns'])"
   ]
  },
  {
   "cell_type": "code",
   "execution_count": null,
   "metadata": {},
   "outputs": [],
   "source": [
    "Walmart_data"
   ]
  },
  {
   "cell_type": "code",
   "execution_count": null,
   "metadata": {},
   "outputs": [],
   "source": [
    "Microsoft_data"
   ]
  },
  {
   "cell_type": "code",
   "execution_count": null,
   "metadata": {},
   "outputs": [],
   "source": [
    "\"\"\"\n",
    "def CSV_cleanest(CSV_file):\n",
    "    \n",
    "    jan_data = pd.DataFrame()\n",
    "    feb_data = pd.DataFrame()\n",
    "    mar_data = pd.DataFrame()\n",
    "    apr_data = pd.DataFrame()\n",
    "    may_data = pd.DataFrame()\n",
    "    jun_data = pd.DataFrame()\n",
    "    jul_data = pd.DataFrame()\n",
    "    aug_data = pd.DataFrame()\n",
    "    sep_data = pd.DataFrame()\n",
    "    oct_data = pd.DataFrame()\n",
    "    nov_data = pd.DataFrame()\n",
    "    dec_data = pd.DataFrame()\n",
    "    \n",
    "    for entry in CSV_file:\n",
    "        if Nike_stock_returns[Nike_stock_returns['Date'].str.contains(\"Jan\") ]:\n",
    "            jan_data.append(entry)\n",
    "            \n",
    "        elif Nike_stock_returns[Nike_stock_returns['Date'].str.contains(\"Feb\") ]:\n",
    "            feb_data.append(entry)\n",
    "        \n",
    "        \n",
    "\n",
    "    return jan_data, feb_data\n",
    "'''"
   ]
  },
  {
   "cell_type": "code",
   "execution_count": null,
   "metadata": {},
   "outputs": [],
   "source": [
    "\"\"\"\n",
    "Visualisation\n",
    "\n",
    "ax1= Nike_data['monthly_posts'].plot(kind='scatter', x='monthly_posts', y='Monthly returns', color='blue', alpha=0.5)\n",
    "\n",
    "Nike_data['monthly_posts'].plot(kind='scatter', x='monthly_posts', y='Monthly returns', color='magenta', alpha=0.5, ax=ax1)\n",
    "\n",
    "plt.legend(labels=['Males','Females'])\n",
    "\n",
    "plt.title('Relationship between Height and Weight', size=24)\n",
    "\n",
    "plt.xlabel('Height (inches)', size=18)\n",
    "\n",
    "plt.ylabel('Weight (pounds)', size=18);\n",
    "\"\"\""
   ]
  },
  {
   "cell_type": "code",
   "execution_count": null,
   "metadata": {},
   "outputs": [],
   "source": [
    "\"\"\"\n",
    "def CSV_cleaner(CSV_file):\n",
    "    \n",
    "    jan_data = pd.DataFrame()\n",
    "    feb_data = []\n",
    "    mar_data = []\n",
    "    apr_data = []\n",
    "    may_data = []\n",
    "    jun_data = []\n",
    "    jul_data = []\n",
    "    aug_data = []\n",
    "    sep_data = []\n",
    "    oct_data = []\n",
    "    nov_data = []\n",
    "    dec_data = []\n",
    "\n",
    "    for entry in Nike_stock_data:\n",
    "        print(entry)\n",
    "        '''\n",
    "        if 'Jan' in entry['Date']:\n",
    "            jan_data.append(entry)\n",
    "        elif 'Feb' in Nike_stock_returns['Date']:\n",
    "            feb_data.append(entry)\n",
    "        elif 'Mar' in Nike_stock_returns['Date']:\n",
    "            mar_data.append(entry)\n",
    "        elif 'Apr' in Nike_stock_returns['Date']:\n",
    "            apr_data.append(entry)\n",
    "        elif 'May' in Nike_stock_returns['Date']:\n",
    "            may_data.append(entry)\n",
    "        elif 'Jun' in Nike_stock_returns['Date']:\n",
    "            jun_data.append(entry)\n",
    "        elif 'Jul' in Nike_stock_returns['Date']:\n",
    "            jul_data.append(entry)\n",
    "        elif 'Aug' in Nike_stock_returns['Date']:\n",
    "            aug_data.append(entry)\n",
    "        elif 'Sep' in Nike_stock_returns['Date']:\n",
    "            sep_data.append(entry)\n",
    "        elif 'Oct' in Nike_stock_returns['Date']:\n",
    "            oct_data.append(entry)\n",
    "        elif 'Nov' in Nike_stock_returns['Date']:\n",
    "            nov_data.append(entry)\n",
    "        elif 'Dec' in Nike_stock_returns['Date']:\n",
    "            dec_data.append(entry)\n",
    "            '''\n",
    "    return jan_data, feb_data, mar_data, apr_data, may_data, jun_data, jul_data, aug_data, sep_data, oct_data, nov_data, dec_data\n",
    "\"\"\""
   ]
  },
  {
   "cell_type": "code",
   "execution_count": null,
   "metadata": {},
   "outputs": [],
   "source": [
    "\"\"\"\n",
    "Nike_jan_returns = monthly_returns(Nike_jan_data)\n",
    "Nike_feb_returns = monthly_returns(Nike_feb_data)\n",
    "Nike_mar_returns = monthly_returns(Nike_mar_data)\n",
    "Nike_apr_returns = monthly_returns(Nike_apr_data)\n",
    "Nike_may_returns = monthly_returns(Nike_may_data)\n",
    "Nike_jun_returns = monthly_returns(Nike_jun_data)\n",
    "Nike_jul_returns = monthly_returns(Nike_jul_data)\n",
    "Nike_aug_returns = monthly_returns(Nike_aug_data)\n",
    "Nike_sep_returns = monthly_returns(Nike_sep_data)\n",
    "Nike_oct_returns = monthly_returns(Nike_oct_data)\n",
    "Nike_nov_returns = monthly_returns(Nike_nov_data)\n",
    "Nike_dec_returns = monthly_returns(Nike_dec_data)\n",
    "\"\"\""
   ]
  }
 ],
 "metadata": {
  "kernelspec": {
   "display_name": "LucasEnv",
   "language": "python",
   "name": "pylucas"
  },
  "language_info": {
   "codemirror_mode": {
    "name": "ipython",
    "version": 3
   },
   "file_extension": ".py",
   "mimetype": "text/x-python",
   "name": "python",
   "nbconvert_exporter": "python",
   "pygments_lexer": "ipython3",
   "version": "3.7.3"
  }
 },
 "nbformat": 4,
 "nbformat_minor": 2
}

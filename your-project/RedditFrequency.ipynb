{
 "cells": [
  {
   "cell_type": "code",
   "execution_count": 30,
   "metadata": {},
   "outputs": [],
   "source": [
    "import requests\n",
    "import json\n",
    "import re\n",
    "import pandas as pd\n",
    "import csv\n",
    "import time\n",
    "import datetime"
   ]
  },
  {
   "cell_type": "code",
   "execution_count": 12,
   "metadata": {},
   "outputs": [
    {
     "name": "stdout",
     "output_type": "stream",
     "text": [
      "<Response [200]>\n"
     ]
    },
    {
     "data": {
      "text/plain": [
       "{'access_token': '327402780267-KiJ3qUcONLD9a4WQOFwNIXMPpck',\n",
       " 'token_type': 'bearer',\n",
       " 'expires_in': 3600,\n",
       " 'scope': '*'}"
      ]
     },
     "execution_count": 12,
     "metadata": {},
     "output_type": "execute_result"
    }
   ],
   "source": [
    "base_url = 'https://www.reddit.com/'\n",
    "data = {'grant_type': 'password', 'username': 'Lulle949', 'password': 'Nisse12!'}\n",
    "auth = requests.auth.HTTPBasicAuth('2cZLluFsM4AxFw', '6K2cATwzgGslAobS83xTW_NnKhw')\n",
    "r = requests.post(base_url + 'api/v1/access_token',\n",
    "                  data=data,\n",
    "                  headers={'user-agent': 'frequency-getter by Lulle949'},\n",
    "                  auth=auth)\n",
    "print(r)\n",
    "data=r.json()\n",
    "data"
   ]
  },
  {
   "cell_type": "code",
   "execution_count": 13,
   "metadata": {},
   "outputs": [],
   "source": [
    "token = 'bearer ' + '327402780267-KiJ3qUcONLD9a4WQOFwNIXMPpck'"
   ]
  },
  {
   "cell_type": "code",
   "execution_count": 14,
   "metadata": {},
   "outputs": [],
   "source": [
    "company = \"Nike\"\n",
    "number_of_pages = 20"
   ]
  },
  {
   "cell_type": "code",
   "execution_count": 29,
   "metadata": {},
   "outputs": [
    {
     "ename": "TypeError",
     "evalue": "make_request() takes 1 positional argument but 2 were given",
     "output_type": "error",
     "traceback": [
      "\u001b[1;31m---------------------------------------------------------------------------\u001b[0m",
      "\u001b[1;31mTypeError\u001b[0m                                 Traceback (most recent call last)",
      "\u001b[1;32m<ipython-input-29-0e5165ff95cb>\u001b[0m in \u001b[0;36m<module>\u001b[1;34m\u001b[0m\n\u001b[0;32m     21\u001b[0m     \u001b[1;32mreturn\u001b[0m \u001b[0mlst\u001b[0m\u001b[1;33m\u001b[0m\u001b[1;33m\u001b[0m\u001b[0m\n\u001b[0;32m     22\u001b[0m \u001b[1;33m\u001b[0m\u001b[0m\n\u001b[1;32m---> 23\u001b[1;33m \u001b[0mstored_pages\u001b[0m \u001b[1;33m=\u001b[0m \u001b[0mrequest_loop\u001b[0m\u001b[1;33m(\u001b[0m\u001b[0mresponse\u001b[0m\u001b[1;33m,\u001b[0m \u001b[0mnumber_of_pages\u001b[0m\u001b[1;33m,\u001b[0m \u001b[0mcompany\u001b[0m\u001b[1;33m)\u001b[0m\u001b[1;33m\u001b[0m\u001b[1;33m\u001b[0m\u001b[0m\n\u001b[0m\u001b[0;32m     24\u001b[0m \u001b[0mprint\u001b[0m\u001b[1;33m(\u001b[0m\u001b[0mstored_pages\u001b[0m\u001b[1;33m)\u001b[0m\u001b[1;33m\u001b[0m\u001b[1;33m\u001b[0m\u001b[0m\n",
      "\u001b[1;32m<ipython-input-29-0e5165ff95cb>\u001b[0m in \u001b[0;36mrequest_loop\u001b[1;34m(res, number_of_pages, pres)\u001b[0m\n\u001b[0;32m     16\u001b[0m     \u001b[1;32mfor\u001b[0m \u001b[0mi\u001b[0m \u001b[1;32min\u001b[0m \u001b[0mrange\u001b[0m\u001b[1;33m(\u001b[0m\u001b[0mnumber_of_pages\u001b[0m\u001b[1;33m)\u001b[0m\u001b[1;33m:\u001b[0m\u001b[1;33m\u001b[0m\u001b[1;33m\u001b[0m\u001b[0m\n\u001b[0;32m     17\u001b[0m         \u001b[0mpage\u001b[0m \u001b[1;33m=\u001b[0m \u001b[0mretrieve_after\u001b[0m\u001b[1;33m(\u001b[0m\u001b[0mres\u001b[0m\u001b[1;33m)\u001b[0m\u001b[1;33m\u001b[0m\u001b[1;33m\u001b[0m\u001b[0m\n\u001b[1;32m---> 18\u001b[1;33m         \u001b[0mres\u001b[0m \u001b[1;33m=\u001b[0m \u001b[0mmake_request\u001b[0m\u001b[1;33m(\u001b[0m\u001b[0mpres\u001b[0m\u001b[1;33m,\u001b[0m \u001b[0mpage\u001b[0m\u001b[1;33m)\u001b[0m\u001b[1;33m.\u001b[0m\u001b[0mjson\u001b[0m\u001b[1;33m(\u001b[0m\u001b[1;33m)\u001b[0m\u001b[1;33m\u001b[0m\u001b[1;33m\u001b[0m\u001b[0m\n\u001b[0m\u001b[0;32m     19\u001b[0m         \u001b[0mlst\u001b[0m\u001b[1;33m.\u001b[0m\u001b[0mappend\u001b[0m\u001b[1;33m(\u001b[0m\u001b[0mres\u001b[0m\u001b[1;33m)\u001b[0m\u001b[1;33m\u001b[0m\u001b[1;33m\u001b[0m\u001b[0m\n\u001b[0;32m     20\u001b[0m \u001b[1;33m\u001b[0m\u001b[0m\n",
      "\u001b[1;31mTypeError\u001b[0m: make_request() takes 1 positional argument but 2 were given"
     ]
    }
   ],
   "source": [
    "\"\"\"\n",
    "parameters:\n",
    "\n",
    "after = '1514764800' # 1st Jan 2018\n",
    "before = '1546300800' # 1st Jan 2019\n",
    "q = company\n",
    "sub = # Looks for subreddits within a topic such as 'finance', 'culture', 'performance'\n",
    "size = 1000\n",
    "\"\"\"\n",
    "\n",
    "\n",
    "def make_request(company):\n",
    "    headers = {'Authorization': token, 'User-Agent': 'frequency-getter by Lulle949'}\n",
    "    payload = {'q': company, 'limit': 10, 'sort': 'relevance', 'after': '1514764800', 'aggs': 'created_utc', 'frequency': 'hour', 'size': '0'}\n",
    "    return requests.get(\"https://oauth.reddit.com/search\", headers=headers, params=payload)\n",
    "\n",
    "\n",
    "response = make_request(company).json()\n",
    "\n",
    "def retrieve_after(response):\n",
    "    return response[\"data\"][\"after\"]\n",
    "\n",
    "after_retrieval = retrieve_after(response)\n",
    "\n",
    "def request_loop(res, number_of_pages, pres):\n",
    "    lst = []\n",
    "    for i in range(number_of_pages):\n",
    "        page = retrieve_after(res)\n",
    "        res = make_request(pres, page).json()\n",
    "        lst.append(res)\n",
    "        \n",
    "    return lst\n",
    "\n",
    "stored_pages = request_loop(response, number_of_pages, company)\n",
    "print(stored_pages)"
   ]
  },
  {
   "cell_type": "code",
   "execution_count": null,
   "metadata": {},
   "outputs": [],
   "source": [
    "\n",
    "# Run until all posts have been gathered \n",
    "\n",
    "# from the 'after' date up until todays date\n",
    "\n",
    "while len(data) > 0:\n",
    "\n",
    "    for submission in data:\n",
    "\n",
    "        post_ids.append(submission[\"id\"])\n",
    "\n",
    "    # Calls getPushshiftData() with the created date of the last submission\n",
    "\n",
    "    data = getPushshiftData(sub=sub, after=data[-1]['created_utc'])"
   ]
  }
 ],
 "metadata": {
  "kernelspec": {
   "display_name": "LucasEnv",
   "language": "python",
   "name": "pylucas"
  },
  "language_info": {
   "codemirror_mode": {
    "name": "ipython",
    "version": 3
   },
   "file_extension": ".py",
   "mimetype": "text/x-python",
   "name": "python",
   "nbconvert_exporter": "python",
   "pygments_lexer": "ipython3",
   "version": "3.7.3"
  }
 },
 "nbformat": 4,
 "nbformat_minor": 2
}
